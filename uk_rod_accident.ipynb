{
 "cells": [
  {
   "cell_type": "markdown",
   "id": "615c51e2-84e2-4eb3-a804-9caf747592fc",
   "metadata": {},
   "source": [
    "\n",
    "<h1>Data Analytics</h1>"
   ]
  },
  {
   "cell_type": "markdown",
   "id": "54ee1da9-a3ac-43ae-991b-3c179f398b79",
   "metadata": {},
   "source": [
    "<hr>\n",
    "<h3>Data Analys: Jodel Labios</h3>"
   ]
  },
  {
   "cell_type": "markdown",
   "id": "5ae4f53f-4e72-45c1-a7a7-b7cf318b1878",
   "metadata": {},
   "source": [
    "<br>\n",
    "<h4>Import all the modules that are needed</h4>"
   ]
  },
  {
   "cell_type": "code",
   "execution_count": 1,
   "id": "fd3b4b26-7e67-402b-8e84-78ff43692cec",
   "metadata": {},
   "outputs": [],
   "source": [
    "import pandas as pd\n",
    "import numpy as np\n",
    "import matplotlib.pyplot as plt"
   ]
  },
  {
   "cell_type": "markdown",
   "id": "60fd280a-e3d7-4369-a21c-33b392571eef",
   "metadata": {},
   "source": [
    "<br>\n",
    "<h4>Converting Dataset into Dataframe</h4>"
   ]
  },
  {
   "cell_type": "markdown",
   "id": "ef41a76b-f568-47d0-8731-c7c659b63d41",
   "metadata": {},
   "source": [
    "<h4>Requirements:</h4>"
   ]
  },
  {
   "cell_type": "markdown",
   "id": "49ff8f71-ae05-47eb-99b4-01bf105e999d",
   "metadata": {},
   "source": [
    "<ul>\n",
    "    <li>Name of file</li>\n",
    "    <li>file Path</li>\n",
    "</ul>"
   ]
  },
  {
   "cell_type": "code",
   "execution_count": 2,
   "id": "7a0d10b9-7beb-4f7f-a489-f78765d07057",
   "metadata": {},
   "outputs": [],
   "source": [
    "accident = pd.read_csv('Data_Sets\\\\uk_road_accident.csv')"
   ]
  },
  {
   "cell_type": "code",
   "execution_count": 3,
   "id": "5ff98ac4-185f-4e3c-824a-0f5fdc59f3cb",
   "metadata": {},
   "outputs": [
    {
     "data": {
      "text/html": [
       "<div>\n",
       "<style scoped>\n",
       "    .dataframe tbody tr th:only-of-type {\n",
       "        vertical-align: middle;\n",
       "    }\n",
       "\n",
       "    .dataframe tbody tr th {\n",
       "        vertical-align: top;\n",
       "    }\n",
       "\n",
       "    .dataframe thead th {\n",
       "        text-align: right;\n",
       "    }\n",
       "</style>\n",
       "<table border=\"1\" class=\"dataframe\">\n",
       "  <thead>\n",
       "    <tr style=\"text-align: right;\">\n",
       "      <th></th>\n",
       "      <th>Index</th>\n",
       "      <th>Accident_Severity</th>\n",
       "      <th>Accident Date</th>\n",
       "      <th>Latitude</th>\n",
       "      <th>Light_Conditions</th>\n",
       "      <th>District Area</th>\n",
       "      <th>Longitude</th>\n",
       "      <th>Number_of_Casualties</th>\n",
       "      <th>Number_of_Vehicles</th>\n",
       "      <th>Road_Surface_Conditions</th>\n",
       "      <th>Road_Type</th>\n",
       "      <th>Urban_or_Rural_Area</th>\n",
       "      <th>Weather_Conditions</th>\n",
       "      <th>Vehicle_Type</th>\n",
       "    </tr>\n",
       "  </thead>\n",
       "  <tbody>\n",
       "    <tr>\n",
       "      <th>0</th>\n",
       "      <td>200701BS64157</td>\n",
       "      <td>Serious</td>\n",
       "      <td>5/6/2019</td>\n",
       "      <td>51.506187</td>\n",
       "      <td>Darkness - lights lit</td>\n",
       "      <td>Kensington and Chelsea</td>\n",
       "      <td>-0.209082</td>\n",
       "      <td>1</td>\n",
       "      <td>2</td>\n",
       "      <td>Dry</td>\n",
       "      <td>Single carriageway</td>\n",
       "      <td>Urban</td>\n",
       "      <td>Fine no high winds</td>\n",
       "      <td>Car</td>\n",
       "    </tr>\n",
       "    <tr>\n",
       "      <th>1</th>\n",
       "      <td>200701BS65737</td>\n",
       "      <td>Serious</td>\n",
       "      <td>2/7/2019</td>\n",
       "      <td>51.495029</td>\n",
       "      <td>Daylight</td>\n",
       "      <td>Kensington and Chelsea</td>\n",
       "      <td>-0.173647</td>\n",
       "      <td>1</td>\n",
       "      <td>2</td>\n",
       "      <td>Wet or damp</td>\n",
       "      <td>Single carriageway</td>\n",
       "      <td>Urban</td>\n",
       "      <td>Raining no high winds</td>\n",
       "      <td>Car</td>\n",
       "    </tr>\n",
       "    <tr>\n",
       "      <th>2</th>\n",
       "      <td>200701BS66127</td>\n",
       "      <td>Serious</td>\n",
       "      <td>26-08-2019</td>\n",
       "      <td>51.517715</td>\n",
       "      <td>Darkness - lighting unknown</td>\n",
       "      <td>Kensington and Chelsea</td>\n",
       "      <td>-0.210215</td>\n",
       "      <td>1</td>\n",
       "      <td>3</td>\n",
       "      <td>Dry</td>\n",
       "      <td>NaN</td>\n",
       "      <td>Urban</td>\n",
       "      <td>NaN</td>\n",
       "      <td>Taxi/Private hire car</td>\n",
       "    </tr>\n",
       "    <tr>\n",
       "      <th>3</th>\n",
       "      <td>200701BS66128</td>\n",
       "      <td>Serious</td>\n",
       "      <td>16-08-2019</td>\n",
       "      <td>51.495478</td>\n",
       "      <td>Daylight</td>\n",
       "      <td>Kensington and Chelsea</td>\n",
       "      <td>-0.202731</td>\n",
       "      <td>1</td>\n",
       "      <td>4</td>\n",
       "      <td>Dry</td>\n",
       "      <td>Single carriageway</td>\n",
       "      <td>Urban</td>\n",
       "      <td>Fine no high winds</td>\n",
       "      <td>Bus or coach (17 or more pass seats)</td>\n",
       "    </tr>\n",
       "    <tr>\n",
       "      <th>4</th>\n",
       "      <td>200701BS66837</td>\n",
       "      <td>Slight</td>\n",
       "      <td>3/9/2019</td>\n",
       "      <td>51.488576</td>\n",
       "      <td>Darkness - lights lit</td>\n",
       "      <td>Kensington and Chelsea</td>\n",
       "      <td>-0.192487</td>\n",
       "      <td>1</td>\n",
       "      <td>2</td>\n",
       "      <td>Dry</td>\n",
       "      <td>NaN</td>\n",
       "      <td>Urban</td>\n",
       "      <td>NaN</td>\n",
       "      <td>Other vehicle</td>\n",
       "    </tr>\n",
       "    <tr>\n",
       "      <th>...</th>\n",
       "      <td>...</td>\n",
       "      <td>...</td>\n",
       "      <td>...</td>\n",
       "      <td>...</td>\n",
       "      <td>...</td>\n",
       "      <td>...</td>\n",
       "      <td>...</td>\n",
       "      <td>...</td>\n",
       "      <td>...</td>\n",
       "      <td>...</td>\n",
       "      <td>...</td>\n",
       "      <td>...</td>\n",
       "      <td>...</td>\n",
       "      <td>...</td>\n",
       "    </tr>\n",
       "    <tr>\n",
       "      <th>660674</th>\n",
       "      <td>201091NM01760</td>\n",
       "      <td>Slight</td>\n",
       "      <td>18-02-2022</td>\n",
       "      <td>57.374005</td>\n",
       "      <td>Daylight</td>\n",
       "      <td>Highland</td>\n",
       "      <td>-3.467828</td>\n",
       "      <td>2</td>\n",
       "      <td>1</td>\n",
       "      <td>Dry</td>\n",
       "      <td>Single carriageway</td>\n",
       "      <td>Rural</td>\n",
       "      <td>Fine no high winds</td>\n",
       "      <td>Car</td>\n",
       "    </tr>\n",
       "    <tr>\n",
       "      <th>660675</th>\n",
       "      <td>201091NM01881</td>\n",
       "      <td>Slight</td>\n",
       "      <td>21-02-2022</td>\n",
       "      <td>57.232273</td>\n",
       "      <td>Darkness - no lighting</td>\n",
       "      <td>Highland</td>\n",
       "      <td>-3.809281</td>\n",
       "      <td>1</td>\n",
       "      <td>1</td>\n",
       "      <td>Frost or ice</td>\n",
       "      <td>Single carriageway</td>\n",
       "      <td>Rural</td>\n",
       "      <td>Fine no high winds</td>\n",
       "      <td>Car</td>\n",
       "    </tr>\n",
       "    <tr>\n",
       "      <th>660676</th>\n",
       "      <td>201091NM01935</td>\n",
       "      <td>Slight</td>\n",
       "      <td>23-02-2022</td>\n",
       "      <td>57.585044</td>\n",
       "      <td>Daylight</td>\n",
       "      <td>Highland</td>\n",
       "      <td>-3.862727</td>\n",
       "      <td>1</td>\n",
       "      <td>3</td>\n",
       "      <td>Frost or ice</td>\n",
       "      <td>Single carriageway</td>\n",
       "      <td>Rural</td>\n",
       "      <td>Fine no high winds</td>\n",
       "      <td>Car</td>\n",
       "    </tr>\n",
       "    <tr>\n",
       "      <th>660677</th>\n",
       "      <td>201091NM01964</td>\n",
       "      <td>Serious</td>\n",
       "      <td>23-02-2022</td>\n",
       "      <td>57.214898</td>\n",
       "      <td>Darkness - no lighting</td>\n",
       "      <td>Highland</td>\n",
       "      <td>-3.823997</td>\n",
       "      <td>1</td>\n",
       "      <td>2</td>\n",
       "      <td>Wet or damp</td>\n",
       "      <td>Single carriageway</td>\n",
       "      <td>Rural</td>\n",
       "      <td>Fine no high winds</td>\n",
       "      <td>Motorcycle over 500cc</td>\n",
       "    </tr>\n",
       "    <tr>\n",
       "      <th>660678</th>\n",
       "      <td>201091NM02142</td>\n",
       "      <td>Serious</td>\n",
       "      <td>28-02-2022</td>\n",
       "      <td>57.575210</td>\n",
       "      <td>Daylight</td>\n",
       "      <td>Highland</td>\n",
       "      <td>-3.895673</td>\n",
       "      <td>1</td>\n",
       "      <td>1</td>\n",
       "      <td>Wet or damp</td>\n",
       "      <td>Dual carriageway</td>\n",
       "      <td>Rural</td>\n",
       "      <td>Snowing no high winds</td>\n",
       "      <td>Car</td>\n",
       "    </tr>\n",
       "  </tbody>\n",
       "</table>\n",
       "<p>660679 rows × 14 columns</p>\n",
       "</div>"
      ],
      "text/plain": [
       "                Index Accident_Severity Accident Date   Latitude  \\\n",
       "0       200701BS64157           Serious      5/6/2019  51.506187   \n",
       "1       200701BS65737           Serious      2/7/2019  51.495029   \n",
       "2       200701BS66127           Serious    26-08-2019  51.517715   \n",
       "3       200701BS66128           Serious    16-08-2019  51.495478   \n",
       "4       200701BS66837            Slight      3/9/2019  51.488576   \n",
       "...               ...               ...           ...        ...   \n",
       "660674  201091NM01760            Slight    18-02-2022  57.374005   \n",
       "660675  201091NM01881            Slight    21-02-2022  57.232273   \n",
       "660676  201091NM01935            Slight    23-02-2022  57.585044   \n",
       "660677  201091NM01964           Serious    23-02-2022  57.214898   \n",
       "660678  201091NM02142           Serious    28-02-2022  57.575210   \n",
       "\n",
       "                   Light_Conditions           District Area  Longitude  \\\n",
       "0             Darkness - lights lit  Kensington and Chelsea  -0.209082   \n",
       "1                          Daylight  Kensington and Chelsea  -0.173647   \n",
       "2       Darkness - lighting unknown  Kensington and Chelsea  -0.210215   \n",
       "3                          Daylight  Kensington and Chelsea  -0.202731   \n",
       "4             Darkness - lights lit  Kensington and Chelsea  -0.192487   \n",
       "...                             ...                     ...        ...   \n",
       "660674                     Daylight                Highland  -3.467828   \n",
       "660675       Darkness - no lighting                Highland  -3.809281   \n",
       "660676                     Daylight                Highland  -3.862727   \n",
       "660677       Darkness - no lighting                Highland  -3.823997   \n",
       "660678                     Daylight                Highland  -3.895673   \n",
       "\n",
       "        Number_of_Casualties  Number_of_Vehicles Road_Surface_Conditions  \\\n",
       "0                          1                   2                     Dry   \n",
       "1                          1                   2             Wet or damp   \n",
       "2                          1                   3                     Dry   \n",
       "3                          1                   4                     Dry   \n",
       "4                          1                   2                     Dry   \n",
       "...                      ...                 ...                     ...   \n",
       "660674                     2                   1                     Dry   \n",
       "660675                     1                   1            Frost or ice   \n",
       "660676                     1                   3            Frost or ice   \n",
       "660677                     1                   2             Wet or damp   \n",
       "660678                     1                   1             Wet or damp   \n",
       "\n",
       "                 Road_Type Urban_or_Rural_Area     Weather_Conditions  \\\n",
       "0       Single carriageway               Urban     Fine no high winds   \n",
       "1       Single carriageway               Urban  Raining no high winds   \n",
       "2                      NaN               Urban                    NaN   \n",
       "3       Single carriageway               Urban     Fine no high winds   \n",
       "4                      NaN               Urban                    NaN   \n",
       "...                    ...                 ...                    ...   \n",
       "660674  Single carriageway               Rural     Fine no high winds   \n",
       "660675  Single carriageway               Rural     Fine no high winds   \n",
       "660676  Single carriageway               Rural     Fine no high winds   \n",
       "660677  Single carriageway               Rural     Fine no high winds   \n",
       "660678    Dual carriageway               Rural  Snowing no high winds   \n",
       "\n",
       "                                Vehicle_Type  \n",
       "0                                        Car  \n",
       "1                                        Car  \n",
       "2                      Taxi/Private hire car  \n",
       "3       Bus or coach (17 or more pass seats)  \n",
       "4                              Other vehicle  \n",
       "...                                      ...  \n",
       "660674                                   Car  \n",
       "660675                                   Car  \n",
       "660676                                   Car  \n",
       "660677                 Motorcycle over 500cc  \n",
       "660678                                   Car  \n",
       "\n",
       "[660679 rows x 14 columns]"
      ]
     },
     "execution_count": 3,
     "metadata": {},
     "output_type": "execute_result"
    }
   ],
   "source": [
    "accident"
   ]
  },
  {
   "cell_type": "markdown",
   "id": "80cc4ac3-e2ba-467a-8ebd-6e2bde6a39a1",
   "metadata": {},
   "source": [
    "<br>\n",
    "<h4>.describe() function provides key metrics and insight in the data(Numerical Data only)</h4>\n",
    "<h4>Include='all' is use to describe Numerical and Categorical Data</h4>"
   ]
  },
  {
   "cell_type": "code",
   "execution_count": 4,
   "id": "8f72f376-92b9-420c-8842-89bd176575a7",
   "metadata": {},
   "outputs": [
    {
     "data": {
      "text/html": [
       "<div>\n",
       "<style scoped>\n",
       "    .dataframe tbody tr th:only-of-type {\n",
       "        vertical-align: middle;\n",
       "    }\n",
       "\n",
       "    .dataframe tbody tr th {\n",
       "        vertical-align: top;\n",
       "    }\n",
       "\n",
       "    .dataframe thead th {\n",
       "        text-align: right;\n",
       "    }\n",
       "</style>\n",
       "<table border=\"1\" class=\"dataframe\">\n",
       "  <thead>\n",
       "    <tr style=\"text-align: right;\">\n",
       "      <th></th>\n",
       "      <th>Index</th>\n",
       "      <th>Accident_Severity</th>\n",
       "      <th>Accident Date</th>\n",
       "      <th>Latitude</th>\n",
       "      <th>Light_Conditions</th>\n",
       "      <th>District Area</th>\n",
       "      <th>Longitude</th>\n",
       "      <th>Number_of_Casualties</th>\n",
       "      <th>Number_of_Vehicles</th>\n",
       "      <th>Road_Surface_Conditions</th>\n",
       "      <th>Road_Type</th>\n",
       "      <th>Urban_or_Rural_Area</th>\n",
       "      <th>Weather_Conditions</th>\n",
       "      <th>Vehicle_Type</th>\n",
       "    </tr>\n",
       "  </thead>\n",
       "  <tbody>\n",
       "    <tr>\n",
       "      <th>count</th>\n",
       "      <td>660679</td>\n",
       "      <td>660679</td>\n",
       "      <td>660679</td>\n",
       "      <td>660654.000000</td>\n",
       "      <td>660679</td>\n",
       "      <td>660679</td>\n",
       "      <td>660653.000000</td>\n",
       "      <td>660679.000000</td>\n",
       "      <td>660679.000000</td>\n",
       "      <td>659953</td>\n",
       "      <td>656159</td>\n",
       "      <td>660664</td>\n",
       "      <td>646551</td>\n",
       "      <td>660679</td>\n",
       "    </tr>\n",
       "    <tr>\n",
       "      <th>unique</th>\n",
       "      <td>421020</td>\n",
       "      <td>3</td>\n",
       "      <td>1461</td>\n",
       "      <td>NaN</td>\n",
       "      <td>5</td>\n",
       "      <td>422</td>\n",
       "      <td>NaN</td>\n",
       "      <td>NaN</td>\n",
       "      <td>NaN</td>\n",
       "      <td>5</td>\n",
       "      <td>5</td>\n",
       "      <td>3</td>\n",
       "      <td>8</td>\n",
       "      <td>16</td>\n",
       "    </tr>\n",
       "    <tr>\n",
       "      <th>top</th>\n",
       "      <td>2.01E+12</td>\n",
       "      <td>Slight</td>\n",
       "      <td>30-11-2019</td>\n",
       "      <td>NaN</td>\n",
       "      <td>Daylight</td>\n",
       "      <td>Birmingham</td>\n",
       "      <td>NaN</td>\n",
       "      <td>NaN</td>\n",
       "      <td>NaN</td>\n",
       "      <td>Dry</td>\n",
       "      <td>Single carriageway</td>\n",
       "      <td>Urban</td>\n",
       "      <td>Fine no high winds</td>\n",
       "      <td>Car</td>\n",
       "    </tr>\n",
       "    <tr>\n",
       "      <th>freq</th>\n",
       "      <td>239478</td>\n",
       "      <td>563801</td>\n",
       "      <td>704</td>\n",
       "      <td>NaN</td>\n",
       "      <td>484880</td>\n",
       "      <td>13491</td>\n",
       "      <td>NaN</td>\n",
       "      <td>NaN</td>\n",
       "      <td>NaN</td>\n",
       "      <td>447821</td>\n",
       "      <td>492143</td>\n",
       "      <td>421663</td>\n",
       "      <td>520885</td>\n",
       "      <td>497992</td>\n",
       "    </tr>\n",
       "    <tr>\n",
       "      <th>mean</th>\n",
       "      <td>NaN</td>\n",
       "      <td>NaN</td>\n",
       "      <td>NaN</td>\n",
       "      <td>52.553866</td>\n",
       "      <td>NaN</td>\n",
       "      <td>NaN</td>\n",
       "      <td>-1.431210</td>\n",
       "      <td>1.357040</td>\n",
       "      <td>1.831255</td>\n",
       "      <td>NaN</td>\n",
       "      <td>NaN</td>\n",
       "      <td>NaN</td>\n",
       "      <td>NaN</td>\n",
       "      <td>NaN</td>\n",
       "    </tr>\n",
       "    <tr>\n",
       "      <th>std</th>\n",
       "      <td>NaN</td>\n",
       "      <td>NaN</td>\n",
       "      <td>NaN</td>\n",
       "      <td>1.406922</td>\n",
       "      <td>NaN</td>\n",
       "      <td>NaN</td>\n",
       "      <td>1.383330</td>\n",
       "      <td>0.824847</td>\n",
       "      <td>0.715269</td>\n",
       "      <td>NaN</td>\n",
       "      <td>NaN</td>\n",
       "      <td>NaN</td>\n",
       "      <td>NaN</td>\n",
       "      <td>NaN</td>\n",
       "    </tr>\n",
       "    <tr>\n",
       "      <th>min</th>\n",
       "      <td>NaN</td>\n",
       "      <td>NaN</td>\n",
       "      <td>NaN</td>\n",
       "      <td>49.914430</td>\n",
       "      <td>NaN</td>\n",
       "      <td>NaN</td>\n",
       "      <td>-7.516225</td>\n",
       "      <td>1.000000</td>\n",
       "      <td>1.000000</td>\n",
       "      <td>NaN</td>\n",
       "      <td>NaN</td>\n",
       "      <td>NaN</td>\n",
       "      <td>NaN</td>\n",
       "      <td>NaN</td>\n",
       "    </tr>\n",
       "    <tr>\n",
       "      <th>25%</th>\n",
       "      <td>NaN</td>\n",
       "      <td>NaN</td>\n",
       "      <td>NaN</td>\n",
       "      <td>51.490690</td>\n",
       "      <td>NaN</td>\n",
       "      <td>NaN</td>\n",
       "      <td>-2.332291</td>\n",
       "      <td>1.000000</td>\n",
       "      <td>1.000000</td>\n",
       "      <td>NaN</td>\n",
       "      <td>NaN</td>\n",
       "      <td>NaN</td>\n",
       "      <td>NaN</td>\n",
       "      <td>NaN</td>\n",
       "    </tr>\n",
       "    <tr>\n",
       "      <th>50%</th>\n",
       "      <td>NaN</td>\n",
       "      <td>NaN</td>\n",
       "      <td>NaN</td>\n",
       "      <td>52.315641</td>\n",
       "      <td>NaN</td>\n",
       "      <td>NaN</td>\n",
       "      <td>-1.411667</td>\n",
       "      <td>1.000000</td>\n",
       "      <td>2.000000</td>\n",
       "      <td>NaN</td>\n",
       "      <td>NaN</td>\n",
       "      <td>NaN</td>\n",
       "      <td>NaN</td>\n",
       "      <td>NaN</td>\n",
       "    </tr>\n",
       "    <tr>\n",
       "      <th>75%</th>\n",
       "      <td>NaN</td>\n",
       "      <td>NaN</td>\n",
       "      <td>NaN</td>\n",
       "      <td>53.453452</td>\n",
       "      <td>NaN</td>\n",
       "      <td>NaN</td>\n",
       "      <td>-0.232869</td>\n",
       "      <td>1.000000</td>\n",
       "      <td>2.000000</td>\n",
       "      <td>NaN</td>\n",
       "      <td>NaN</td>\n",
       "      <td>NaN</td>\n",
       "      <td>NaN</td>\n",
       "      <td>NaN</td>\n",
       "    </tr>\n",
       "    <tr>\n",
       "      <th>max</th>\n",
       "      <td>NaN</td>\n",
       "      <td>NaN</td>\n",
       "      <td>NaN</td>\n",
       "      <td>60.757544</td>\n",
       "      <td>NaN</td>\n",
       "      <td>NaN</td>\n",
       "      <td>1.762010</td>\n",
       "      <td>68.000000</td>\n",
       "      <td>32.000000</td>\n",
       "      <td>NaN</td>\n",
       "      <td>NaN</td>\n",
       "      <td>NaN</td>\n",
       "      <td>NaN</td>\n",
       "      <td>NaN</td>\n",
       "    </tr>\n",
       "  </tbody>\n",
       "</table>\n",
       "</div>"
      ],
      "text/plain": [
       "           Index Accident_Severity Accident Date       Latitude  \\\n",
       "count     660679            660679        660679  660654.000000   \n",
       "unique    421020                 3          1461            NaN   \n",
       "top     2.01E+12            Slight    30-11-2019            NaN   \n",
       "freq      239478            563801           704            NaN   \n",
       "mean         NaN               NaN           NaN      52.553866   \n",
       "std          NaN               NaN           NaN       1.406922   \n",
       "min          NaN               NaN           NaN      49.914430   \n",
       "25%          NaN               NaN           NaN      51.490690   \n",
       "50%          NaN               NaN           NaN      52.315641   \n",
       "75%          NaN               NaN           NaN      53.453452   \n",
       "max          NaN               NaN           NaN      60.757544   \n",
       "\n",
       "       Light_Conditions District Area      Longitude  Number_of_Casualties  \\\n",
       "count            660679        660679  660653.000000         660679.000000   \n",
       "unique                5           422            NaN                   NaN   \n",
       "top            Daylight    Birmingham            NaN                   NaN   \n",
       "freq             484880         13491            NaN                   NaN   \n",
       "mean                NaN           NaN      -1.431210              1.357040   \n",
       "std                 NaN           NaN       1.383330              0.824847   \n",
       "min                 NaN           NaN      -7.516225              1.000000   \n",
       "25%                 NaN           NaN      -2.332291              1.000000   \n",
       "50%                 NaN           NaN      -1.411667              1.000000   \n",
       "75%                 NaN           NaN      -0.232869              1.000000   \n",
       "max                 NaN           NaN       1.762010             68.000000   \n",
       "\n",
       "        Number_of_Vehicles Road_Surface_Conditions           Road_Type  \\\n",
       "count        660679.000000                  659953              656159   \n",
       "unique                 NaN                       5                   5   \n",
       "top                    NaN                     Dry  Single carriageway   \n",
       "freq                   NaN                  447821              492143   \n",
       "mean              1.831255                     NaN                 NaN   \n",
       "std               0.715269                     NaN                 NaN   \n",
       "min               1.000000                     NaN                 NaN   \n",
       "25%               1.000000                     NaN                 NaN   \n",
       "50%               2.000000                     NaN                 NaN   \n",
       "75%               2.000000                     NaN                 NaN   \n",
       "max              32.000000                     NaN                 NaN   \n",
       "\n",
       "       Urban_or_Rural_Area  Weather_Conditions Vehicle_Type  \n",
       "count               660664              646551       660679  \n",
       "unique                   3                   8           16  \n",
       "top                  Urban  Fine no high winds          Car  \n",
       "freq                421663              520885       497992  \n",
       "mean                   NaN                 NaN          NaN  \n",
       "std                    NaN                 NaN          NaN  \n",
       "min                    NaN                 NaN          NaN  \n",
       "25%                    NaN                 NaN          NaN  \n",
       "50%                    NaN                 NaN          NaN  \n",
       "75%                    NaN                 NaN          NaN  \n",
       "max                    NaN                 NaN          NaN  "
      ]
     },
     "execution_count": 4,
     "metadata": {},
     "output_type": "execute_result"
    }
   ],
   "source": [
    "accident.describe(include='all')"
   ]
  },
  {
   "cell_type": "markdown",
   "id": "ef5aa710-a2b3-4510-809a-452d68fa16fe",
   "metadata": {},
   "source": [
    "<br>\n",
    "<h4>Filtering column using square bracket [ ]</h4>"
   ]
  },
  {
   "cell_type": "code",
   "execution_count": 5,
   "id": "e86e91c2-8b9e-44ab-9c35-410868357ef7",
   "metadata": {},
   "outputs": [],
   "source": [
    "accident_sever = accident['Accident_Severity']"
   ]
  },
  {
   "cell_type": "code",
   "execution_count": 6,
   "id": "0bf24be1-194f-43bc-91d9-37b5eef612e0",
   "metadata": {},
   "outputs": [
    {
     "name": "stdout",
     "output_type": "stream",
     "text": [
      "0         Serious\n",
      "1         Serious\n",
      "2         Serious\n",
      "3         Serious\n",
      "4          Slight\n",
      "           ...   \n",
      "660674     Slight\n",
      "660675     Slight\n",
      "660676     Slight\n",
      "660677    Serious\n",
      "660678    Serious\n",
      "Name: Accident_Severity, Length: 660679, dtype: object\n"
     ]
    }
   ],
   "source": [
    "print(accident_sever)"
   ]
  },
  {
   "cell_type": "code",
   "execution_count": 7,
   "id": "4f86e7e2-4245-4a90-a004-ea3ea2cca48c",
   "metadata": {},
   "outputs": [],
   "source": [
    "accident_date = accident['Accident Date']"
   ]
  },
  {
   "cell_type": "code",
   "execution_count": 8,
   "id": "ec6f4fcc-4f13-46b9-82bc-8274782c1af9",
   "metadata": {},
   "outputs": [
    {
     "name": "stdout",
     "output_type": "stream",
     "text": [
      "0           5/6/2019\n",
      "1           2/7/2019\n",
      "2         26-08-2019\n",
      "3         16-08-2019\n",
      "4           3/9/2019\n",
      "             ...    \n",
      "660674    18-02-2022\n",
      "660675    21-02-2022\n",
      "660676    23-02-2022\n",
      "660677    23-02-2022\n",
      "660678    28-02-2022\n",
      "Name: Accident Date, Length: 660679, dtype: object\n"
     ]
    }
   ],
   "source": [
    "print(accident_date)"
   ]
  },
  {
   "cell_type": "code",
   "execution_count": 9,
   "id": "87ba1cfd-f52d-4081-b78b-37f382c9b683",
   "metadata": {},
   "outputs": [],
   "source": [
    "latitude = accident['Latitude']"
   ]
  },
  {
   "cell_type": "code",
   "execution_count": 10,
   "id": "8d3226e2-bcfd-43eb-a9b0-c7232c48fd14",
   "metadata": {},
   "outputs": [
    {
     "name": "stdout",
     "output_type": "stream",
     "text": [
      "0         51.506187\n",
      "1         51.495029\n",
      "2         51.517715\n",
      "3         51.495478\n",
      "4         51.488576\n",
      "            ...    \n",
      "660674    57.374005\n",
      "660675    57.232273\n",
      "660676    57.585044\n",
      "660677    57.214898\n",
      "660678    57.575210\n",
      "Name: Latitude, Length: 660679, dtype: float64\n"
     ]
    }
   ],
   "source": [
    "print(latitude)"
   ]
  },
  {
   "cell_type": "code",
   "execution_count": 11,
   "id": "970a621f-c3a8-41c6-921d-b460a3b4cb5a",
   "metadata": {},
   "outputs": [],
   "source": [
    "ligth_conditions = accident[\"Light_Conditions\"]"
   ]
  },
  {
   "cell_type": "code",
   "execution_count": 12,
   "id": "e5efe716-bce4-41c7-9453-afef776b8320",
   "metadata": {},
   "outputs": [
    {
     "name": "stdout",
     "output_type": "stream",
     "text": [
      "0               Darkness - lights lit\n",
      "1                            Daylight\n",
      "2         Darkness - lighting unknown\n",
      "3                            Daylight\n",
      "4               Darkness - lights lit\n",
      "                     ...             \n",
      "660674                       Daylight\n",
      "660675         Darkness - no lighting\n",
      "660676                       Daylight\n",
      "660677         Darkness - no lighting\n",
      "660678                       Daylight\n",
      "Name: Light_Conditions, Length: 660679, dtype: object\n"
     ]
    }
   ],
   "source": [
    "print(ligth_conditions)"
   ]
  },
  {
   "cell_type": "code",
   "execution_count": 13,
   "id": "dec94ab9-f367-4753-8d43-505e462b15dc",
   "metadata": {},
   "outputs": [],
   "source": [
    "district_area = accident['District Area']"
   ]
  },
  {
   "cell_type": "code",
   "execution_count": 14,
   "id": "c125e651-f4e9-4e19-9898-887932437de4",
   "metadata": {},
   "outputs": [
    {
     "name": "stdout",
     "output_type": "stream",
     "text": [
      "0         Kensington and Chelsea\n",
      "1         Kensington and Chelsea\n",
      "2         Kensington and Chelsea\n",
      "3         Kensington and Chelsea\n",
      "4         Kensington and Chelsea\n",
      "                   ...          \n",
      "660674                  Highland\n",
      "660675                  Highland\n",
      "660676                  Highland\n",
      "660677                  Highland\n",
      "660678                  Highland\n",
      "Name: District Area, Length: 660679, dtype: object\n"
     ]
    }
   ],
   "source": [
    "print(district_area)"
   ]
  },
  {
   "cell_type": "code",
   "execution_count": 15,
   "id": "078d5974-8b91-4ad5-8a33-36589b3c1df5",
   "metadata": {},
   "outputs": [],
   "source": [
    "longitude = accident['Longitude']"
   ]
  },
  {
   "cell_type": "code",
   "execution_count": 16,
   "id": "ea88235f-ae91-49d5-8b39-7d237dce5ad7",
   "metadata": {},
   "outputs": [
    {
     "name": "stdout",
     "output_type": "stream",
     "text": [
      "0        -0.209082\n",
      "1        -0.173647\n",
      "2        -0.210215\n",
      "3        -0.202731\n",
      "4        -0.192487\n",
      "            ...   \n",
      "660674   -3.467828\n",
      "660675   -3.809281\n",
      "660676   -3.862727\n",
      "660677   -3.823997\n",
      "660678   -3.895673\n",
      "Name: Longitude, Length: 660679, dtype: float64\n"
     ]
    }
   ],
   "source": [
    "print(longitude)"
   ]
  },
  {
   "cell_type": "code",
   "execution_count": 17,
   "id": "5508748f-a4f5-45ce-a6ed-23cefd5da8c8",
   "metadata": {},
   "outputs": [],
   "source": [
    "number_of_casualties = accident['Number_of_Casualties']"
   ]
  },
  {
   "cell_type": "code",
   "execution_count": 18,
   "id": "ac5bc423-6da2-4d63-92e3-2e02431bc937",
   "metadata": {},
   "outputs": [
    {
     "name": "stdout",
     "output_type": "stream",
     "text": [
      "0         1\n",
      "1         1\n",
      "2         1\n",
      "3         1\n",
      "4         1\n",
      "         ..\n",
      "660674    2\n",
      "660675    1\n",
      "660676    1\n",
      "660677    1\n",
      "660678    1\n",
      "Name: Number_of_Casualties, Length: 660679, dtype: int64\n"
     ]
    }
   ],
   "source": [
    "print(number_of_casualties)"
   ]
  },
  {
   "cell_type": "code",
   "execution_count": 19,
   "id": "ecff738d-0728-4e00-bb8a-8fbab8b9e871",
   "metadata": {},
   "outputs": [],
   "source": [
    "number_of_vehicles = accident['Number_of_Vehicles']"
   ]
  },
  {
   "cell_type": "code",
   "execution_count": 20,
   "id": "d893f7c9-95e2-4579-a93d-a0d49e1fbe99",
   "metadata": {},
   "outputs": [
    {
     "name": "stdout",
     "output_type": "stream",
     "text": [
      "0         2\n",
      "1         2\n",
      "2         3\n",
      "3         4\n",
      "4         2\n",
      "         ..\n",
      "660674    1\n",
      "660675    1\n",
      "660676    3\n",
      "660677    2\n",
      "660678    1\n",
      "Name: Number_of_Vehicles, Length: 660679, dtype: int64\n"
     ]
    }
   ],
   "source": [
    "print(number_of_vehicles)"
   ]
  },
  {
   "cell_type": "code",
   "execution_count": 21,
   "id": "b4794de5-83cb-4bc4-b0e2-5c3c50e8af87",
   "metadata": {},
   "outputs": [],
   "source": [
    "road_surface_conditions = accident['Road_Surface_Conditions']"
   ]
  },
  {
   "cell_type": "code",
   "execution_count": 22,
   "id": "5b3d398f-e8b4-4fd6-b959-d649a5bded11",
   "metadata": {},
   "outputs": [
    {
     "name": "stdout",
     "output_type": "stream",
     "text": [
      "0                  Dry\n",
      "1          Wet or damp\n",
      "2                  Dry\n",
      "3                  Dry\n",
      "4                  Dry\n",
      "              ...     \n",
      "660674             Dry\n",
      "660675    Frost or ice\n",
      "660676    Frost or ice\n",
      "660677     Wet or damp\n",
      "660678     Wet or damp\n",
      "Name: Road_Surface_Conditions, Length: 660679, dtype: object\n"
     ]
    }
   ],
   "source": [
    "print(road_surface_conditions)"
   ]
  },
  {
   "cell_type": "code",
   "execution_count": 23,
   "id": "4159bbee-6019-4891-bdce-11c5a68c5fe8",
   "metadata": {},
   "outputs": [],
   "source": [
    "road_type = accident['Road_Type']"
   ]
  },
  {
   "cell_type": "code",
   "execution_count": 24,
   "id": "9cffbfe7-b766-45b7-8a82-46d118a579e5",
   "metadata": {},
   "outputs": [
    {
     "name": "stdout",
     "output_type": "stream",
     "text": [
      "0         Single carriageway\n",
      "1         Single carriageway\n",
      "2                        NaN\n",
      "3         Single carriageway\n",
      "4                        NaN\n",
      "                 ...        \n",
      "660674    Single carriageway\n",
      "660675    Single carriageway\n",
      "660676    Single carriageway\n",
      "660677    Single carriageway\n",
      "660678      Dual carriageway\n",
      "Name: Road_Type, Length: 660679, dtype: object\n"
     ]
    }
   ],
   "source": [
    "print(road_type)"
   ]
  },
  {
   "cell_type": "code",
   "execution_count": 25,
   "id": "46b2302e-eae4-438b-ab5f-0ddff1757f6a",
   "metadata": {},
   "outputs": [],
   "source": [
    "urban_or_rural_area = accident['Urban_or_Rural_Area']"
   ]
  },
  {
   "cell_type": "code",
   "execution_count": 26,
   "id": "bfeb822d-fdf8-4e0f-9488-f83fcc760a52",
   "metadata": {},
   "outputs": [
    {
     "name": "stdout",
     "output_type": "stream",
     "text": [
      "0         Urban\n",
      "1         Urban\n",
      "2         Urban\n",
      "3         Urban\n",
      "4         Urban\n",
      "          ...  \n",
      "660674    Rural\n",
      "660675    Rural\n",
      "660676    Rural\n",
      "660677    Rural\n",
      "660678    Rural\n",
      "Name: Urban_or_Rural_Area, Length: 660679, dtype: object\n"
     ]
    }
   ],
   "source": [
    "print(urban_or_rural_area)"
   ]
  },
  {
   "cell_type": "code",
   "execution_count": 27,
   "id": "26a3c164-16c1-474f-8857-2c1b9a89d250",
   "metadata": {},
   "outputs": [],
   "source": [
    "weather_conditions = accident['Weather_Conditions']"
   ]
  },
  {
   "cell_type": "code",
   "execution_count": 28,
   "id": "7ce1a5c2-3578-4e0f-9dfb-a7687d30c1ae",
   "metadata": {},
   "outputs": [
    {
     "name": "stdout",
     "output_type": "stream",
     "text": [
      "0            Fine no high winds\n",
      "1         Raining no high winds\n",
      "2                           NaN\n",
      "3            Fine no high winds\n",
      "4                           NaN\n",
      "                  ...          \n",
      "660674       Fine no high winds\n",
      "660675       Fine no high winds\n",
      "660676       Fine no high winds\n",
      "660677       Fine no high winds\n",
      "660678    Snowing no high winds\n",
      "Name: Weather_Conditions, Length: 660679, dtype: object\n"
     ]
    }
   ],
   "source": [
    "print(weather_conditions)"
   ]
  },
  {
   "cell_type": "markdown",
   "id": "5277280a-c7cf-43b7-ba90-f8d9fa613754",
   "metadata": {},
   "source": [
    "<br>\n",
    "<h4>Check for null values using .isnull() function</h4>"
   ]
  },
  {
   "cell_type": "code",
   "execution_count": 29,
   "id": "f2de8044-61f4-4303-beec-e60402460ece",
   "metadata": {},
   "outputs": [
    {
     "data": {
      "text/html": [
       "<div>\n",
       "<style scoped>\n",
       "    .dataframe tbody tr th:only-of-type {\n",
       "        vertical-align: middle;\n",
       "    }\n",
       "\n",
       "    .dataframe tbody tr th {\n",
       "        vertical-align: top;\n",
       "    }\n",
       "\n",
       "    .dataframe thead th {\n",
       "        text-align: right;\n",
       "    }\n",
       "</style>\n",
       "<table border=\"1\" class=\"dataframe\">\n",
       "  <thead>\n",
       "    <tr style=\"text-align: right;\">\n",
       "      <th></th>\n",
       "      <th>Index</th>\n",
       "      <th>Accident_Severity</th>\n",
       "      <th>Accident Date</th>\n",
       "      <th>Latitude</th>\n",
       "      <th>Light_Conditions</th>\n",
       "      <th>District Area</th>\n",
       "      <th>Longitude</th>\n",
       "      <th>Number_of_Casualties</th>\n",
       "      <th>Number_of_Vehicles</th>\n",
       "      <th>Road_Surface_Conditions</th>\n",
       "      <th>Road_Type</th>\n",
       "      <th>Urban_or_Rural_Area</th>\n",
       "      <th>Weather_Conditions</th>\n",
       "      <th>Vehicle_Type</th>\n",
       "    </tr>\n",
       "  </thead>\n",
       "  <tbody>\n",
       "    <tr>\n",
       "      <th>0</th>\n",
       "      <td>False</td>\n",
       "      <td>False</td>\n",
       "      <td>False</td>\n",
       "      <td>False</td>\n",
       "      <td>False</td>\n",
       "      <td>False</td>\n",
       "      <td>False</td>\n",
       "      <td>False</td>\n",
       "      <td>False</td>\n",
       "      <td>False</td>\n",
       "      <td>False</td>\n",
       "      <td>False</td>\n",
       "      <td>False</td>\n",
       "      <td>False</td>\n",
       "    </tr>\n",
       "    <tr>\n",
       "      <th>1</th>\n",
       "      <td>False</td>\n",
       "      <td>False</td>\n",
       "      <td>False</td>\n",
       "      <td>False</td>\n",
       "      <td>False</td>\n",
       "      <td>False</td>\n",
       "      <td>False</td>\n",
       "      <td>False</td>\n",
       "      <td>False</td>\n",
       "      <td>False</td>\n",
       "      <td>False</td>\n",
       "      <td>False</td>\n",
       "      <td>False</td>\n",
       "      <td>False</td>\n",
       "    </tr>\n",
       "    <tr>\n",
       "      <th>2</th>\n",
       "      <td>False</td>\n",
       "      <td>False</td>\n",
       "      <td>False</td>\n",
       "      <td>False</td>\n",
       "      <td>False</td>\n",
       "      <td>False</td>\n",
       "      <td>False</td>\n",
       "      <td>False</td>\n",
       "      <td>False</td>\n",
       "      <td>False</td>\n",
       "      <td>True</td>\n",
       "      <td>False</td>\n",
       "      <td>True</td>\n",
       "      <td>False</td>\n",
       "    </tr>\n",
       "    <tr>\n",
       "      <th>3</th>\n",
       "      <td>False</td>\n",
       "      <td>False</td>\n",
       "      <td>False</td>\n",
       "      <td>False</td>\n",
       "      <td>False</td>\n",
       "      <td>False</td>\n",
       "      <td>False</td>\n",
       "      <td>False</td>\n",
       "      <td>False</td>\n",
       "      <td>False</td>\n",
       "      <td>False</td>\n",
       "      <td>False</td>\n",
       "      <td>False</td>\n",
       "      <td>False</td>\n",
       "    </tr>\n",
       "    <tr>\n",
       "      <th>4</th>\n",
       "      <td>False</td>\n",
       "      <td>False</td>\n",
       "      <td>False</td>\n",
       "      <td>False</td>\n",
       "      <td>False</td>\n",
       "      <td>False</td>\n",
       "      <td>False</td>\n",
       "      <td>False</td>\n",
       "      <td>False</td>\n",
       "      <td>False</td>\n",
       "      <td>True</td>\n",
       "      <td>False</td>\n",
       "      <td>True</td>\n",
       "      <td>False</td>\n",
       "    </tr>\n",
       "    <tr>\n",
       "      <th>...</th>\n",
       "      <td>...</td>\n",
       "      <td>...</td>\n",
       "      <td>...</td>\n",
       "      <td>...</td>\n",
       "      <td>...</td>\n",
       "      <td>...</td>\n",
       "      <td>...</td>\n",
       "      <td>...</td>\n",
       "      <td>...</td>\n",
       "      <td>...</td>\n",
       "      <td>...</td>\n",
       "      <td>...</td>\n",
       "      <td>...</td>\n",
       "      <td>...</td>\n",
       "    </tr>\n",
       "    <tr>\n",
       "      <th>660674</th>\n",
       "      <td>False</td>\n",
       "      <td>False</td>\n",
       "      <td>False</td>\n",
       "      <td>False</td>\n",
       "      <td>False</td>\n",
       "      <td>False</td>\n",
       "      <td>False</td>\n",
       "      <td>False</td>\n",
       "      <td>False</td>\n",
       "      <td>False</td>\n",
       "      <td>False</td>\n",
       "      <td>False</td>\n",
       "      <td>False</td>\n",
       "      <td>False</td>\n",
       "    </tr>\n",
       "    <tr>\n",
       "      <th>660675</th>\n",
       "      <td>False</td>\n",
       "      <td>False</td>\n",
       "      <td>False</td>\n",
       "      <td>False</td>\n",
       "      <td>False</td>\n",
       "      <td>False</td>\n",
       "      <td>False</td>\n",
       "      <td>False</td>\n",
       "      <td>False</td>\n",
       "      <td>False</td>\n",
       "      <td>False</td>\n",
       "      <td>False</td>\n",
       "      <td>False</td>\n",
       "      <td>False</td>\n",
       "    </tr>\n",
       "    <tr>\n",
       "      <th>660676</th>\n",
       "      <td>False</td>\n",
       "      <td>False</td>\n",
       "      <td>False</td>\n",
       "      <td>False</td>\n",
       "      <td>False</td>\n",
       "      <td>False</td>\n",
       "      <td>False</td>\n",
       "      <td>False</td>\n",
       "      <td>False</td>\n",
       "      <td>False</td>\n",
       "      <td>False</td>\n",
       "      <td>False</td>\n",
       "      <td>False</td>\n",
       "      <td>False</td>\n",
       "    </tr>\n",
       "    <tr>\n",
       "      <th>660677</th>\n",
       "      <td>False</td>\n",
       "      <td>False</td>\n",
       "      <td>False</td>\n",
       "      <td>False</td>\n",
       "      <td>False</td>\n",
       "      <td>False</td>\n",
       "      <td>False</td>\n",
       "      <td>False</td>\n",
       "      <td>False</td>\n",
       "      <td>False</td>\n",
       "      <td>False</td>\n",
       "      <td>False</td>\n",
       "      <td>False</td>\n",
       "      <td>False</td>\n",
       "    </tr>\n",
       "    <tr>\n",
       "      <th>660678</th>\n",
       "      <td>False</td>\n",
       "      <td>False</td>\n",
       "      <td>False</td>\n",
       "      <td>False</td>\n",
       "      <td>False</td>\n",
       "      <td>False</td>\n",
       "      <td>False</td>\n",
       "      <td>False</td>\n",
       "      <td>False</td>\n",
       "      <td>False</td>\n",
       "      <td>False</td>\n",
       "      <td>False</td>\n",
       "      <td>False</td>\n",
       "      <td>False</td>\n",
       "    </tr>\n",
       "  </tbody>\n",
       "</table>\n",
       "<p>660679 rows × 14 columns</p>\n",
       "</div>"
      ],
      "text/plain": [
       "        Index  Accident_Severity  Accident Date  Latitude  Light_Conditions  \\\n",
       "0       False              False          False     False             False   \n",
       "1       False              False          False     False             False   \n",
       "2       False              False          False     False             False   \n",
       "3       False              False          False     False             False   \n",
       "4       False              False          False     False             False   \n",
       "...       ...                ...            ...       ...               ...   \n",
       "660674  False              False          False     False             False   \n",
       "660675  False              False          False     False             False   \n",
       "660676  False              False          False     False             False   \n",
       "660677  False              False          False     False             False   \n",
       "660678  False              False          False     False             False   \n",
       "\n",
       "        District Area  Longitude  Number_of_Casualties  Number_of_Vehicles  \\\n",
       "0               False      False                 False               False   \n",
       "1               False      False                 False               False   \n",
       "2               False      False                 False               False   \n",
       "3               False      False                 False               False   \n",
       "4               False      False                 False               False   \n",
       "...               ...        ...                   ...                 ...   \n",
       "660674          False      False                 False               False   \n",
       "660675          False      False                 False               False   \n",
       "660676          False      False                 False               False   \n",
       "660677          False      False                 False               False   \n",
       "660678          False      False                 False               False   \n",
       "\n",
       "        Road_Surface_Conditions  Road_Type  Urban_or_Rural_Area  \\\n",
       "0                         False      False                False   \n",
       "1                         False      False                False   \n",
       "2                         False       True                False   \n",
       "3                         False      False                False   \n",
       "4                         False       True                False   \n",
       "...                         ...        ...                  ...   \n",
       "660674                    False      False                False   \n",
       "660675                    False      False                False   \n",
       "660676                    False      False                False   \n",
       "660677                    False      False                False   \n",
       "660678                    False      False                False   \n",
       "\n",
       "        Weather_Conditions  Vehicle_Type  \n",
       "0                    False         False  \n",
       "1                    False         False  \n",
       "2                     True         False  \n",
       "3                    False         False  \n",
       "4                     True         False  \n",
       "...                    ...           ...  \n",
       "660674               False         False  \n",
       "660675               False         False  \n",
       "660676               False         False  \n",
       "660677               False         False  \n",
       "660678               False         False  \n",
       "\n",
       "[660679 rows x 14 columns]"
      ]
     },
     "execution_count": 29,
     "metadata": {},
     "output_type": "execute_result"
    }
   ],
   "source": [
    "accident.isnull()"
   ]
  },
  {
   "cell_type": "markdown",
   "id": "8c197f0f-7fe0-4e14-bb07-8d3828e496fb",
   "metadata": {},
   "source": [
    "<br>\n",
    "<h4>Sum all the null values using .sum() function integrated to .isnull() function</h4>"
   ]
  },
  {
   "cell_type": "code",
   "execution_count": 30,
   "id": "2443ae7f-5726-40e7-8c04-bf1dc41ae75e",
   "metadata": {},
   "outputs": [
    {
     "data": {
      "text/plain": [
       "Index                          0\n",
       "Accident_Severity              0\n",
       "Accident Date                  0\n",
       "Latitude                      25\n",
       "Light_Conditions               0\n",
       "District Area                  0\n",
       "Longitude                     26\n",
       "Number_of_Casualties           0\n",
       "Number_of_Vehicles             0\n",
       "Road_Surface_Conditions      726\n",
       "Road_Type                   4520\n",
       "Urban_or_Rural_Area           15\n",
       "Weather_Conditions         14128\n",
       "Vehicle_Type                   0\n",
       "dtype: int64"
      ]
     },
     "execution_count": 30,
     "metadata": {},
     "output_type": "execute_result"
    }
   ],
   "source": [
    "accident.isnull().sum()"
   ]
  },
  {
   "cell_type": "markdown",
   "id": "20e0196b-7dff-4da3-8215-44460db1e7ca",
   "metadata": {},
   "source": [
    "<br>\n",
    "<h4>Filling all the null values using .fillna() function</h4>"
   ]
  },
  {
   "cell_type": "code",
   "execution_count": null,
   "id": "2df57a04-38da-4b7b-9c00-cf6c668b215a",
   "metadata": {},
   "outputs": [],
   "source": []
  },
  {
   "cell_type": "code",
   "execution_count": 31,
   "id": "4908fb0f-51d5-4ee1-b218-5a3ea569ad1d",
   "metadata": {},
   "outputs": [],
   "source": [
    "accident['Latitude'] = accident['Latitude'].fillna(latitude.mean())\n",
    "accident['Longitude'] = accident['Longitude'].fillna(longitude.mean())\n",
    "accident['Road_Surface_Conditions'] = accident['Road_Surface_Conditions'].fillna(road_surface_conditions.mode()[0])\n",
    "accident['Road_Type'] = accident['Road_Type'].fillna(road_type.mode()[0])\n",
    "accident['Urban_or_Rural_Area'] = accident['Urban_or_Rural_Area'].fillna(urban_or_rural_area.mode()[0])\n",
    "accident['Weather_Conditions'] = accident['Weather_Conditions'].fillna(weather_conditions.mode()[0])"
   ]
  },
  {
   "cell_type": "code",
   "execution_count": 32,
   "id": "3f27c86e-4760-4267-9209-ba7a21d45f66",
   "metadata": {},
   "outputs": [
    {
     "data": {
      "text/plain": [
       "Index                      0\n",
       "Accident_Severity          0\n",
       "Accident Date              0\n",
       "Latitude                   0\n",
       "Light_Conditions           0\n",
       "District Area              0\n",
       "Longitude                  0\n",
       "Number_of_Casualties       0\n",
       "Number_of_Vehicles         0\n",
       "Road_Surface_Conditions    0\n",
       "Road_Type                  0\n",
       "Urban_or_Rural_Area        0\n",
       "Weather_Conditions         0\n",
       "Vehicle_Type               0\n",
       "dtype: int64"
      ]
     },
     "execution_count": 32,
     "metadata": {},
     "output_type": "execute_result"
    }
   ],
   "source": [
    "accident.isnull().sum()"
   ]
  },
  {
   "cell_type": "code",
   "execution_count": 33,
   "id": "77e651b1-f42a-42a5-a06b-8b86ada0ac72",
   "metadata": {},
   "outputs": [],
   "source": [
    "accident['Accident Date'] = accident['Accident Date'].astype('str')"
   ]
  },
  {
   "cell_type": "code",
   "execution_count": 34,
   "id": "ba2b9118-dcba-4c15-93fd-fbd4293e5162",
   "metadata": {},
   "outputs": [],
   "source": [
    "accident['Accident Date'] = accident['Accident Date'].str.strip()\n",
    "\n",
    "accident['Accident Date'] = accident['Accident Date'].astype('str')\n",
    "\n",
    "accident['Accident Date'] = accident['Accident Date'].str.replace('/', '-')"
   ]
  },
  {
   "cell_type": "code",
   "execution_count": 35,
   "id": "85af36d0-f618-4f6d-a51f-0fbbf09ecc58",
   "metadata": {},
   "outputs": [],
   "source": [
    "accident['Accident Date'] = pd.to_datetime(accident['Accident Date'], dayfirst = True, errors='coerce')"
   ]
  },
  {
   "cell_type": "code",
   "execution_count": 36,
   "id": "67e5c3c9-e204-4519-8f64-1fe475838101",
   "metadata": {},
   "outputs": [],
   "source": [
    "accident['Year'] = accident['Accident Date'].dt.year\n",
    "accident['Month'] = accident['Accident Date'].dt.month\n",
    "accident['Day']  = accident['Accident Date'].dt.day\n",
    "accident['DayOfWeek']  = accident['Accident Date'].dt.dayofweek"
   ]
  },
  {
   "cell_type": "code",
   "execution_count": 37,
   "id": "a1bec690-154e-4d4e-8cf1-bc8fe7c434a2",
   "metadata": {},
   "outputs": [
    {
     "name": "stdout",
     "output_type": "stream",
     "text": [
      "<class 'pandas.core.frame.DataFrame'>\n",
      "RangeIndex: 660679 entries, 0 to 660678\n",
      "Data columns (total 18 columns):\n",
      " #   Column                   Non-Null Count   Dtype         \n",
      "---  ------                   --------------   -----         \n",
      " 0   Index                    660679 non-null  object        \n",
      " 1   Accident_Severity        660679 non-null  object        \n",
      " 2   Accident Date            660679 non-null  datetime64[ns]\n",
      " 3   Latitude                 660679 non-null  float64       \n",
      " 4   Light_Conditions         660679 non-null  object        \n",
      " 5   District Area            660679 non-null  object        \n",
      " 6   Longitude                660679 non-null  float64       \n",
      " 7   Number_of_Casualties     660679 non-null  int64         \n",
      " 8   Number_of_Vehicles       660679 non-null  int64         \n",
      " 9   Road_Surface_Conditions  660679 non-null  object        \n",
      " 10  Road_Type                660679 non-null  object        \n",
      " 11  Urban_or_Rural_Area      660679 non-null  object        \n",
      " 12  Weather_Conditions       660679 non-null  object        \n",
      " 13  Vehicle_Type             660679 non-null  object        \n",
      " 14  Year                     660679 non-null  int32         \n",
      " 15  Month                    660679 non-null  int32         \n",
      " 16  Day                      660679 non-null  int32         \n",
      " 17  DayOfWeek                660679 non-null  int32         \n",
      "dtypes: datetime64[ns](1), float64(2), int32(4), int64(2), object(9)\n",
      "memory usage: 80.6+ MB\n"
     ]
    }
   ],
   "source": [
    "accident.info()"
   ]
  },
  {
   "cell_type": "code",
   "execution_count": 38,
   "id": "4975e3f0-f7d2-4dd8-ae05-2683cf07674d",
   "metadata": {},
   "outputs": [
    {
     "data": {
      "text/plain": [
       "Index                      0\n",
       "Accident_Severity          0\n",
       "Accident Date              0\n",
       "Latitude                   0\n",
       "Light_Conditions           0\n",
       "District Area              0\n",
       "Longitude                  0\n",
       "Number_of_Casualties       0\n",
       "Number_of_Vehicles         0\n",
       "Road_Surface_Conditions    0\n",
       "Road_Type                  0\n",
       "Urban_or_Rural_Area        0\n",
       "Weather_Conditions         0\n",
       "Vehicle_Type               0\n",
       "Year                       0\n",
       "Month                      0\n",
       "Day                        0\n",
       "DayOfWeek                  0\n",
       "dtype: int64"
      ]
     },
     "execution_count": 38,
     "metadata": {},
     "output_type": "execute_result"
    }
   ],
   "source": [
    "accident.isnull().sum()"
   ]
  },
  {
   "cell_type": "code",
   "execution_count": 39,
   "id": "97a22a90-402a-4d05-85f7-79ad4e93fa16",
   "metadata": {},
   "outputs": [],
   "source": [
    "year_months = accident.groupby(['Year', 'Month']).size()"
   ]
  },
  {
   "cell_type": "code",
   "execution_count": 40,
   "id": "75497fac-c791-45e5-b8bb-4cbce3b49a70",
   "metadata": {},
   "outputs": [
    {
     "data": {
      "text/html": [
       "<div>\n",
       "<style scoped>\n",
       "    .dataframe tbody tr th:only-of-type {\n",
       "        vertical-align: middle;\n",
       "    }\n",
       "\n",
       "    .dataframe tbody tr th {\n",
       "        vertical-align: top;\n",
       "    }\n",
       "\n",
       "    .dataframe thead th {\n",
       "        text-align: right;\n",
       "    }\n",
       "</style>\n",
       "<table border=\"1\" class=\"dataframe\">\n",
       "  <thead>\n",
       "    <tr style=\"text-align: right;\">\n",
       "      <th>Year</th>\n",
       "      <th>2019</th>\n",
       "      <th>2020</th>\n",
       "      <th>2021</th>\n",
       "      <th>2022</th>\n",
       "    </tr>\n",
       "    <tr>\n",
       "      <th>Month</th>\n",
       "      <th></th>\n",
       "      <th></th>\n",
       "      <th></th>\n",
       "      <th></th>\n",
       "    </tr>\n",
       "  </thead>\n",
       "  <tbody>\n",
       "    <tr>\n",
       "      <th>1</th>\n",
       "      <td>15355</td>\n",
       "      <td>14133</td>\n",
       "      <td>13417</td>\n",
       "      <td>9967</td>\n",
       "    </tr>\n",
       "    <tr>\n",
       "      <th>2</th>\n",
       "      <td>13253</td>\n",
       "      <td>14353</td>\n",
       "      <td>10950</td>\n",
       "      <td>10935</td>\n",
       "    </tr>\n",
       "    <tr>\n",
       "      <th>3</th>\n",
       "      <td>15049</td>\n",
       "      <td>13494</td>\n",
       "      <td>13202</td>\n",
       "      <td>12341</td>\n",
       "    </tr>\n",
       "    <tr>\n",
       "      <th>4</th>\n",
       "      <td>14125</td>\n",
       "      <td>13394</td>\n",
       "      <td>12715</td>\n",
       "      <td>11510</td>\n",
       "    </tr>\n",
       "    <tr>\n",
       "      <th>5</th>\n",
       "      <td>15833</td>\n",
       "      <td>14336</td>\n",
       "      <td>13811</td>\n",
       "      <td>12372</td>\n",
       "    </tr>\n",
       "    <tr>\n",
       "      <th>6</th>\n",
       "      <td>15528</td>\n",
       "      <td>14205</td>\n",
       "      <td>13936</td>\n",
       "      <td>12812</td>\n",
       "    </tr>\n",
       "    <tr>\n",
       "      <th>7</th>\n",
       "      <td>15862</td>\n",
       "      <td>14630</td>\n",
       "      <td>14300</td>\n",
       "      <td>12653</td>\n",
       "    </tr>\n",
       "    <tr>\n",
       "      <th>8</th>\n",
       "      <td>15044</td>\n",
       "      <td>13366</td>\n",
       "      <td>13415</td>\n",
       "      <td>12088</td>\n",
       "    </tr>\n",
       "    <tr>\n",
       "      <th>9</th>\n",
       "      <td>15271</td>\n",
       "      <td>14432</td>\n",
       "      <td>13792</td>\n",
       "      <td>12960</td>\n",
       "    </tr>\n",
       "    <tr>\n",
       "      <th>10</th>\n",
       "      <td>15528</td>\n",
       "      <td>15684</td>\n",
       "      <td>14834</td>\n",
       "      <td>13534</td>\n",
       "    </tr>\n",
       "    <tr>\n",
       "      <th>11</th>\n",
       "      <td>16559</td>\n",
       "      <td>14770</td>\n",
       "      <td>15473</td>\n",
       "      <td>13622</td>\n",
       "    </tr>\n",
       "    <tr>\n",
       "      <th>12</th>\n",
       "      <td>14708</td>\n",
       "      <td>13794</td>\n",
       "      <td>13709</td>\n",
       "      <td>9625</td>\n",
       "    </tr>\n",
       "  </tbody>\n",
       "</table>\n",
       "</div>"
      ],
      "text/plain": [
       "Year    2019   2020   2021   2022\n",
       "Month                            \n",
       "1      15355  14133  13417   9967\n",
       "2      13253  14353  10950  10935\n",
       "3      15049  13494  13202  12341\n",
       "4      14125  13394  12715  11510\n",
       "5      15833  14336  13811  12372\n",
       "6      15528  14205  13936  12812\n",
       "7      15862  14630  14300  12653\n",
       "8      15044  13366  13415  12088\n",
       "9      15271  14432  13792  12960\n",
       "10     15528  15684  14834  13534\n",
       "11     16559  14770  15473  13622\n",
       "12     14708  13794  13709   9625"
      ]
     },
     "execution_count": 40,
     "metadata": {},
     "output_type": "execute_result"
    }
   ],
   "source": [
    "year_months.unstack(level=0)"
   ]
  },
  {
   "cell_type": "code",
   "execution_count": null,
   "id": "2f077e47-8938-4204-bb7d-2f81f19b58a3",
   "metadata": {},
   "outputs": [],
   "source": []
  },
  {
   "cell_type": "markdown",
   "id": "47059750-1703-4434-87a6-a3f49b24cd30",
   "metadata": {},
   "source": [
    "<hr>\n",
    "<br>\n",
    "<h3>Exploratory Data Analytics (EDA)</h3>"
   ]
  },
  {
   "cell_type": "markdown",
   "id": "924c58f3-d252-4188-b0f1-a15a34f34967",
   "metadata": {},
   "source": [
    "<br>\n",
    "<h3>Questions No. 1 </h3>\n"
   ]
  },
  {
   "cell_type": "markdown",
   "id": "03aefa0d-5f9b-457e-aeea-4610d15fd377",
   "metadata": {},
   "source": [
    "<h4>When it come's to accident severity , What is the most common  accident severity?</h4>"
   ]
  },
  {
   "cell_type": "markdown",
   "id": "88959429-731c-4d21-9040-38ce10bd0343",
   "metadata": {},
   "source": [
    "<br>"
   ]
  },
  {
   "cell_type": "code",
   "execution_count": 41,
   "id": "15065ce1-518a-428d-9405-4d6fcf87c6c8",
   "metadata": {},
   "outputs": [],
   "source": [
    "AS = accident['Accident_Severity'].value_counts()"
   ]
  },
  {
   "cell_type": "code",
   "execution_count": 42,
   "id": "10dc1dba-5090-4795-a815-ea3d3da15d80",
   "metadata": {},
   "outputs": [
    {
     "data": {
      "text/plain": [
       "Accident_Severity\n",
       "Slight     563801\n",
       "Serious     88217\n",
       "Fatal        8661\n",
       "Name: count, dtype: int64"
      ]
     },
     "execution_count": 42,
     "metadata": {},
     "output_type": "execute_result"
    }
   ],
   "source": [
    "AS"
   ]
  },
  {
   "cell_type": "code",
   "execution_count": 43,
   "id": "e6cf78aa-a1da-42a2-acd8-c02dfd22c2ec",
   "metadata": {},
   "outputs": [
    {
     "data": {
      "text/plain": [
       "Index(['Slight', 'Serious', 'Fatal'], dtype='object', name='Accident_Severity')"
      ]
     },
     "execution_count": 43,
     "metadata": {},
     "output_type": "execute_result"
    }
   ],
   "source": [
    "AS.index\n"
   ]
  },
  {
   "cell_type": "code",
   "execution_count": 44,
   "id": "b7e99ece-1e0f-4976-a47e-6952bf4ecce0",
   "metadata": {},
   "outputs": [
    {
     "data": {
      "text/plain": [
       "array([563801,  88217,   8661])"
      ]
     },
     "execution_count": 44,
     "metadata": {},
     "output_type": "execute_result"
    }
   ],
   "source": [
    "AS.values"
   ]
  },
  {
   "cell_type": "code",
   "execution_count": 45,
   "id": "ab46ef1a-25bb-4a45-8885-2ccd519c362e",
   "metadata": {},
   "outputs": [
    {
     "data": {
      "image/png": "[encoded data removed]",
      "text/plain": [
       "<Figure size 640x480 with 1 Axes>"
      ]
     },
     "metadata": {},
     "output_type": "display_data"
    }
   ],
   "source": [
    "plt.bar(AS.index, AS.values, )\n",
    "plt.show()"
   ]
  },
  {
   "cell_type": "markdown",
   "id": "7a28dc19-0463-46a2-8c03-e63e3d809365",
   "metadata": {},
   "source": [
    "<h3>Insigth No. 1</h3>\n"
   ]
  },
  {
   "cell_type": "markdown",
   "id": "f1635189-47f9-4ac9-9a55-8fa1c791b548",
   "metadata": {},
   "source": [
    "<h4>Based on the bar graph the most common accident severity Is slight injury</h4>\n",
    "<hr>"
   ]
  },
  {
   "cell_type": "markdown",
   "id": "e613210d-1c83-4c5b-8f90-d49d49616a7f",
   "metadata": {},
   "source": [
    "<br>\n",
    "<h3>Question No. 2</h3>\n",
    "<h4>When it comes to accident severity, what type of vehicle has  the most  sligth injury</h4>\n",
    "<br>"
   ]
  },
  {
   "cell_type": "code",
   "execution_count": 46,
   "id": "aaac0690-56ed-4786-9a3a-e9caa4932bb9",
   "metadata": {},
   "outputs": [],
   "source": [
    "Asligth_vehicle_type = accident[accident['Accident_Severity'] == 'Slight']"
   ]
  },
  {
   "cell_type": "code",
   "execution_count": 47,
   "id": "30f49c0b-c76a-43bf-bef8-c8dddae51619",
   "metadata": {},
   "outputs": [
    {
     "data": {
      "text/plain": [
       "Vehicle_Type\n",
       "Car                                      424954\n",
       "Van / Goods 3.5 tonnes mgw or under       29139\n",
       "Bus or coach (17 or more pass seats)      22180\n",
       "Motorcycle over 500cc                     21861\n",
       "Goods 7.5 tonnes mgw and over             14770\n",
       "Motorcycle 125cc and under                13049\n",
       "Taxi/Private hire car                     11368\n",
       "Motorcycle over 125cc and up to 500cc      6537\n",
       "Motorcycle 50cc and under                  6494\n",
       "Goods over 3.5t. and under 7.5t            5172\n",
       "Other vehicle                              4800\n",
       "Minibus (8 - 16 passenger seats)           1671\n",
       "Agricultural vehicle                       1644\n",
       "Pedal cycle                                 152\n",
       "Data missing or out of range                  6\n",
       "Ridden horse                                  4\n",
       "Name: count, dtype: int64"
      ]
     },
     "execution_count": 47,
     "metadata": {},
     "output_type": "execute_result"
    }
   ],
   "source": [
    "Asligth_vehicle_type['Vehicle_Type'].value_counts()"
   ]
  },
  {
   "cell_type": "markdown",
   "id": "1720f928-7643-4b17-8239-0ba364ea5404",
   "metadata": {},
   "source": [
    "<br>\n",
    "<h3>Insigth No. 2</h3>\n",
    "<h4>Based on the result car has the most sligth injury road accident cases</h4>"
   ]
  },
  {
   "cell_type": "markdown",
   "id": "27cf0a7c-d08a-42ea-9343-ee133e927f1e",
   "metadata": {},
   "source": [
    "<hr>\n",
    "<br>\n",
    "<h3>Questions No. 3 </h3>"
   ]
  },
  {
   "cell_type": "markdown",
   "id": "13998761-b411-46f8-b25d-0a34dccda69b",
   "metadata": {},
   "source": [
    "<h4>Doe's road surface conditions affect road accidents?</h4>"
   ]
  },
  {
   "cell_type": "code",
   "execution_count": 48,
   "id": "048c0181-e0e9-4257-90e4-06a78e061bbf",
   "metadata": {},
   "outputs": [],
   "source": [
    "RSC = accident['Road_Surface_Conditions'].value_counts()"
   ]
  },
  {
   "cell_type": "code",
   "execution_count": 49,
   "id": "6d36492d-2bb8-4faf-b6e5-ef25789e5baf",
   "metadata": {},
   "outputs": [
    {
     "data": {
      "text/plain": [
       "Road_Surface_Conditions\n",
       "Dry                     448547\n",
       "Wet or damp             186708\n",
       "Frost or ice             18517\n",
       "Snow                      5890\n",
       "Flood over 3cm. deep      1017\n",
       "Name: count, dtype: int64"
      ]
     },
     "execution_count": 49,
     "metadata": {},
     "output_type": "execute_result"
    }
   ],
   "source": [
    "RSC"
   ]
  },
  {
   "cell_type": "code",
   "execution_count": 50,
   "id": "7a084893-56f0-45cb-9337-b81f608b7d10",
   "metadata": {},
   "outputs": [
    {
     "data": {
      "text/plain": [
       "Index(['Dry', 'Wet or damp', 'Frost or ice', 'Snow', 'Flood over 3cm. deep'], dtype='object', name='Road_Surface_Conditions')"
      ]
     },
     "execution_count": 50,
     "metadata": {},
     "output_type": "execute_result"
    }
   ],
   "source": [
    "RSC.index\n"
   ]
  },
  {
   "cell_type": "code",
   "execution_count": 51,
   "id": "a6fab13b-085a-4436-b1fa-d09444665d1d",
   "metadata": {},
   "outputs": [
    {
     "data": {
      "text/plain": [
       "array([448547, 186708,  18517,   5890,   1017])"
      ]
     },
     "execution_count": 51,
     "metadata": {},
     "output_type": "execute_result"
    }
   ],
   "source": [
    "RSC.values"
   ]
  },
  {
   "cell_type": "code",
   "execution_count": 52,
   "id": "b6af6c41-a512-47cb-986a-0303852fbb92",
   "metadata": {},
   "outputs": [
    {
     "data": {
      "image/png": "[encoded data removed]",
      "text/plain": [
       "<Figure size 640x480 with 1 Axes>"
      ]
     },
     "metadata": {},
     "output_type": "display_data"
    }
   ],
   "source": [
    "plt.bar(RSC.index, RSC.values, color= ['red', 'yellow', 'green', 'blue'])\n",
    "plt.xlabel('ROAD SURFACE CONDITIONS')\n",
    "plt.ylabel('NUMBERS OF ACCIDENT')\n",
    "plt.title('ROAD SURFACE CONDITIONS VALUE COUNTS')\n",
    "plt.show()"
   ]
  },
  {
   "cell_type": "markdown",
   "id": "11b50d3c-f1f1-49cc-9d2b-5c38c4f9a447",
   "metadata": {},
   "source": [
    "<br>\n",
    "<h3>Insight No. 3</h3>\n"
   ]
  },
  {
   "cell_type": "markdown",
   "id": "44a4c548-8896-4ea0-912c-d46a4c4f00bf",
   "metadata": {},
   "source": [
    "<h4>Based on the result there is a small chance that road surface conditions can affect road accidents</h4>\n",
    "<hr>"
   ]
  },
  {
   "cell_type": "markdown",
   "id": "5e609509-592e-450c-a44d-9b94b231914e",
   "metadata": {},
   "source": [
    "<br>\n",
    "<h3>Question No. 4</h3>\n",
    "<h4>What type of vehicle is most likely to have accidents when the road is dry?</h4>\n",
    "<br>"
   ]
  },
  {
   "cell_type": "code",
   "execution_count": 53,
   "id": "728a2831-34a8-42fd-b3a0-e2301cb61f59",
   "metadata": {},
   "outputs": [
    {
     "data": {
      "text/plain": [
       "Vehicle_Type\n",
       "Car                                      337860\n",
       "Van / Goods 3.5 tonnes mgw or under       23124\n",
       "Bus or coach (17 or more pass seats)      17623\n",
       "Motorcycle over 500cc                     17465\n",
       "Goods 7.5 tonnes mgw and over             11708\n",
       "Motorcycle 125cc and under                10515\n",
       "Taxi/Private hire car                      9024\n",
       "Motorcycle over 125cc and up to 500cc      5233\n",
       "Motorcycle 50cc and under                  5200\n",
       "Goods over 3.5t. and under 7.5t            4138\n",
       "Other vehicle                              3853\n",
       "Minibus (8 - 16 passenger seats)           1356\n",
       "Agricultural vehicle                       1304\n",
       "Pedal cycle                                 138\n",
       "Data missing or out of range                  3\n",
       "Ridden horse                                  3\n",
       "Name: count, dtype: int64"
      ]
     },
     "execution_count": 53,
     "metadata": {},
     "output_type": "execute_result"
    }
   ],
   "source": [
    "dry_vehicle = accident[accident['Road_Surface_Conditions'] == 'Dry']\n",
    "dry_vehicle['Vehicle_Type'].value_counts()"
   ]
  },
  {
   "cell_type": "markdown",
   "id": "8b3078f2-6972-41db-bf7e-99cdd928f8e7",
   "metadata": {},
   "source": [
    "<br>\n",
    "<h3>Insigth No. 4</h3>\n",
    "<h4>Based on the results, cars is more likely to have an accidents when the road is dry.</h4>\n",
    "<hr>"
   ]
  },
  {
   "cell_type": "markdown",
   "id": "747477a2-1d3e-4978-81bd-a692c7baab39",
   "metadata": {},
   "source": [
    "<br>\n",
    "<h3>Question No. 5</h3>\n",
    "<h4>What type of vehicle is most likely to have accidents when the road is wet or damp?</h4>\n",
    "<br>"
   ]
  },
  {
   "cell_type": "code",
   "execution_count": 54,
   "id": "7d008dc6-b4b6-4374-94be-36ae79191f60",
   "metadata": {},
   "outputs": [
    {
     "data": {
      "text/plain": [
       "Vehicle_Type\n",
       "Car                                      140764\n",
       "Van / Goods 3.5 tonnes mgw or under        9732\n",
       "Bus or coach (17 or more pass seats)       7355\n",
       "Motorcycle over 500cc                      7233\n",
       "Goods 7.5 tonnes mgw and over              4988\n",
       "Motorcycle 125cc and under                 4192\n",
       "Taxi/Private hire car                      3751\n",
       "Motorcycle over 125cc and up to 500cc      2139\n",
       "Motorcycle 50cc and under                  2089\n",
       "Goods over 3.5t. and under 7.5t            1739\n",
       "Other vehicle                              1561\n",
       "Minibus (8 - 16 passenger seats)            563\n",
       "Agricultural vehicle                        552\n",
       "Pedal cycle                                  47\n",
       "Data missing or out of range                  2\n",
       "Ridden horse                                  1\n",
       "Name: count, dtype: int64"
      ]
     },
     "execution_count": 54,
     "metadata": {},
     "output_type": "execute_result"
    }
   ],
   "source": [
    "wetordamp_vehicle = accident[accident['Road_Surface_Conditions'] == 'Wet or damp']\n",
    "wetordamp_vehicle['Vehicle_Type'].value_counts()"
   ]
  },
  {
   "cell_type": "markdown",
   "id": "c70937f6-0217-4404-9cbb-a6d5ac02268a",
   "metadata": {},
   "source": [
    "<br>\n",
    "<h3>Insigth No. 5</h3>\n",
    "<h4>Based on the results, cars is more likely to have an accidents when the road is wet or damp.</h4>\n",
    "<hr>"
   ]
  },
  {
   "cell_type": "markdown",
   "id": "979ac5a4-bc0e-4d36-9c93-4253c4e52685",
   "metadata": {},
   "source": [
    "<br>\n",
    "<h3>Question No. 6</h3>\n",
    "<h4>What type of vehicle is most likely to have accidents when the road is frost or ice?</h4>"
   ]
  },
  {
   "cell_type": "code",
   "execution_count": 55,
   "id": "cc7c6882-a295-44a0-915f-553cd4a3602a",
   "metadata": {},
   "outputs": [
    {
     "data": {
      "text/plain": [
       "Vehicle_Type\n",
       "Car                                      14108\n",
       "Van / Goods 3.5 tonnes mgw or under        972\n",
       "Motorcycle over 500cc                      689\n",
       "Bus or coach (17 or more pass seats)       646\n",
       "Goods 7.5 tonnes mgw and over              432\n",
       "Motorcycle 125cc and under                 420\n",
       "Taxi/Private hire car                      384\n",
       "Motorcycle 50cc and under                  224\n",
       "Motorcycle over 125cc and up to 500cc      204\n",
       "Other vehicle                              166\n",
       "Goods over 3.5t. and under 7.5t            162\n",
       "Agricultural vehicle                        59\n",
       "Minibus (8 - 16 passenger seats)            40\n",
       "Pedal cycle                                 10\n",
       "Data missing or out of range                 1\n",
       "Name: count, dtype: int64"
      ]
     },
     "execution_count": 55,
     "metadata": {},
     "output_type": "execute_result"
    }
   ],
   "source": [
    "frostice_vehicle = accident[accident['Road_Surface_Conditions'] == 'Frost or ice']\n",
    "frostice_vehicle['Vehicle_Type'].value_counts()"
   ]
  },
  {
   "cell_type": "markdown",
   "id": "197f55db-a609-438a-b26a-1f605700e5be",
   "metadata": {},
   "source": [
    "<br>\n",
    "<h3>Insigth No. 6</h3>\n",
    "<h4>Based on the results, cars is more likely to have an accidents when the road is frost or ice.</h4>\n",
    "<hr>"
   ]
  },
  {
   "cell_type": "markdown",
   "id": "2b233677-9a22-4abe-a659-e1d87ca12030",
   "metadata": {},
   "source": [
    "<br>\n",
    "<h3>Question No. 7 </h3>"
   ]
  },
  {
   "cell_type": "markdown",
   "id": "07cb492d-72df-4899-9166-1da7e1671bea",
   "metadata": {},
   "source": [
    "<h3>Doe's lighting conditions affect road accidents?</h3>\n",
    "<br>"
   ]
  },
  {
   "cell_type": "code",
   "execution_count": 56,
   "id": "230ede96-af59-4b71-aca5-04c63d676ead",
   "metadata": {},
   "outputs": [],
   "source": [
    "LA = accident['Light_Conditions'].value_counts()"
   ]
  },
  {
   "cell_type": "code",
   "execution_count": 57,
   "id": "fc76866a-0c36-481c-bb73-8bd2418fa2da",
   "metadata": {},
   "outputs": [
    {
     "data": {
      "text/plain": [
       "Light_Conditions\n",
       "Daylight                       484880\n",
       "Darkness - lights lit          129335\n",
       "Darkness - no lighting          37437\n",
       "Darkness - lighting unknown      6484\n",
       "Darkness - lights unlit          2543\n",
       "Name: count, dtype: int64"
      ]
     },
     "execution_count": 57,
     "metadata": {},
     "output_type": "execute_result"
    }
   ],
   "source": [
    "LA"
   ]
  },
  {
   "cell_type": "code",
   "execution_count": 58,
   "id": "5949b9ed-08a8-435e-8077-c880c81cd9eb",
   "metadata": {},
   "outputs": [
    {
     "data": {
      "text/plain": [
       "Index(['Daylight', 'Darkness - lights lit', 'Darkness - no lighting',\n",
       "       'Darkness - lighting unknown', 'Darkness - lights unlit'],\n",
       "      dtype='object', name='Light_Conditions')"
      ]
     },
     "execution_count": 58,
     "metadata": {},
     "output_type": "execute_result"
    }
   ],
   "source": [
    "LA.index"
   ]
  },
  {
   "cell_type": "code",
   "execution_count": 59,
   "id": "200b355d-e370-4d64-b884-679d0beb8f4a",
   "metadata": {},
   "outputs": [
    {
     "data": {
      "text/plain": [
       "array([484880, 129335,  37437,   6484,   2543])"
      ]
     },
     "execution_count": 59,
     "metadata": {},
     "output_type": "execute_result"
    }
   ],
   "source": [
    "LA.values"
   ]
  },
  {
   "cell_type": "code",
   "execution_count": 60,
   "id": "1e37980f-c1ad-4f98-9abf-99465dfe6457",
   "metadata": {},
   "outputs": [
    {
     "data": {
      "image/png": "[encoded data removed]",
      "text/plain": [
       "<Figure size 1500x400 with 1 Axes>"
      ]
     },
     "metadata": {},
     "output_type": "display_data"
    }
   ],
   "source": [
    "plt.figure(figsize=(15, 4))\n",
    "plt.bar(LA.index, LA.values,color= ['red', 'yellow', 'green', 'blue'])\n",
    "plt.xlabel('LIGTH CONDITIONS')\n",
    "plt.ylabel('NUMBERS OF ACCIDENT')\n",
    "plt.title('LIGTH CONDITIONS VALUE COUNTS')\n",
    "plt.show()"
   ]
  },
  {
   "cell_type": "markdown",
   "id": "8460f511-a011-42f6-889e-5219e9af6fe4",
   "metadata": {},
   "source": [
    "<h3>Insigth No. 7 </h3>"
   ]
  },
  {
   "cell_type": "markdown",
   "id": "be30b6b7-8f32-41a1-a6ab-ddb25b22393f",
   "metadata": {},
   "source": [
    "<h4>Based on the results, road accidents is higher in the morning when there is sunlight and the road is still bright. This simply means that there is less chance that light conditions will affect road accidents.</h4>"
   ]
  },
  {
   "cell_type": "markdown",
   "id": "d2e4b803-a52f-4e45-a330-a624eb4ef16d",
   "metadata": {},
   "source": [
    "<hr>\n",
    "<br>\n",
    "<h3>Question No. 8</h3>"
   ]
  },
  {
   "cell_type": "markdown",
   "id": "25506496-2848-4532-b109-63e8ce5670bf",
   "metadata": {},
   "source": [
    "<h4>In urban and rural what area has the most case of accident?</h4>\n",
    "<br>"
   ]
  },
  {
   "cell_type": "code",
   "execution_count": 61,
   "id": "3689b9d0-2c89-4912-bea4-f050ee37995c",
   "metadata": {},
   "outputs": [],
   "source": [
    "UORA = accident['Urban_or_Rural_Area'].value_counts()"
   ]
  },
  {
   "cell_type": "code",
   "execution_count": 62,
   "id": "70a80651-d19e-4942-a6a8-0fdb28a98a4c",
   "metadata": {},
   "outputs": [
    {
     "data": {
      "text/plain": [
       "Urban_or_Rural_Area\n",
       "Urban          421678\n",
       "Rural          238990\n",
       "Unallocated        11\n",
       "Name: count, dtype: int64"
      ]
     },
     "execution_count": 62,
     "metadata": {},
     "output_type": "execute_result"
    }
   ],
   "source": [
    "UORA"
   ]
  },
  {
   "cell_type": "code",
   "execution_count": 63,
   "id": "609e98d9-46b7-4f9e-94fb-dd3a478e6f77",
   "metadata": {},
   "outputs": [
    {
     "data": {
      "text/plain": [
       "Index(['Urban', 'Rural', 'Unallocated'], dtype='object', name='Urban_or_Rural_Area')"
      ]
     },
     "execution_count": 63,
     "metadata": {},
     "output_type": "execute_result"
    }
   ],
   "source": [
    "UORA.index"
   ]
  },
  {
   "cell_type": "code",
   "execution_count": 64,
   "id": "017f1210-10a3-4f16-9159-4c4a0fbdbe42",
   "metadata": {},
   "outputs": [
    {
     "data": {
      "text/plain": [
       "array([421678, 238990,     11])"
      ]
     },
     "execution_count": 64,
     "metadata": {},
     "output_type": "execute_result"
    }
   ],
   "source": [
    "UORA.values"
   ]
  },
  {
   "cell_type": "code",
   "execution_count": 65,
   "id": "cdeaa136-33d7-498f-8b37-74c451d0a5b9",
   "metadata": {},
   "outputs": [
    {
     "data": {
      "image/png": "[encoded data removed]",
      "text/plain": [
       "<Figure size 640x480 with 1 Axes>"
      ]
     },
     "metadata": {},
     "output_type": "display_data"
    }
   ],
   "source": [
    "plt.bar(UORA.index, UORA.values, color= ['red', 'yellow', 'green'])\n",
    "plt.xlabel('COMMUNITY'), \n",
    "plt.ylabel('NUMBERS OF ACCIDENT')\n",
    "plt.title('URBAN AND RURAL VALUE COUNTS')\n",
    "plt.show()"
   ]
  },
  {
   "cell_type": "markdown",
   "id": "2a158029-aed6-48cb-8772-9624ce937d5b",
   "metadata": {},
   "source": [
    "<h3>Insigth No. 8</h3>"
   ]
  },
  {
   "cell_type": "markdown",
   "id": "2c728e28-6b0d-42dc-88ba-ddee82e7b365",
   "metadata": {},
   "source": [
    "<h4>Based on the result  urban community has the most case of accident</h4>"
   ]
  },
  {
   "cell_type": "markdown",
   "id": "2235af64-6535-4439-a93b-3ad2585dd689",
   "metadata": {},
   "source": [
    "<hr>\n",
    "<br>"
   ]
  },
  {
   "cell_type": "markdown",
   "id": "f1674fa0-04f0-4545-9fed-7b2d65ed7428",
   "metadata": {},
   "source": [
    "<h3>Question No. 9</h3>"
   ]
  },
  {
   "cell_type": "markdown",
   "id": "d9f4f5d4-b5a5-420a-898b-1b9ba2865821",
   "metadata": {},
   "source": [
    "<h4>In urban, in terms of road type, what road type has the most accident case?</h4>\n",
    "<br>"
   ]
  },
  {
   "cell_type": "code",
   "execution_count": 66,
   "id": "6877946f-48ae-4a31-8307-897350abf55b",
   "metadata": {},
   "outputs": [
    {
     "data": {
      "text/plain": [
       "Road_Type\n",
       "Single carriageway    327411\n",
       "Dual carriageway       50708\n",
       "Roundabout             28446\n",
       "One way street         12366\n",
       "Slip road               2747\n",
       "Name: count, dtype: int64"
      ]
     },
     "execution_count": 66,
     "metadata": {},
     "output_type": "execute_result"
    }
   ],
   "source": [
    "urban = accident[accident['Urban_or_Rural_Area'] == 'Urban']\n",
    "urban['Road_Type'].value_counts()"
   ]
  },
  {
   "cell_type": "markdown",
   "id": "5dfbaf90-c186-4c85-bb1f-38b85f0cc35f",
   "metadata": {},
   "source": [
    "<h3>Insight No. 9</h3>"
   ]
  },
  {
   "cell_type": "markdown",
   "id": "86f01a37-a146-4cfe-84ee-c6f14f285b26",
   "metadata": {},
   "source": [
    "<h4>Single carriageway  road type has the most accident case in urban area it has 327,411 accident cases </h4>\n",
    "<hr>"
   ]
  },
  {
   "cell_type": "markdown",
   "id": "c180de61-2011-4104-b5dc-a1c4cd6566e3",
   "metadata": {},
   "source": [
    "<br>\n",
    "<h3>Question No. 10</h3>"
   ]
  },
  {
   "cell_type": "markdown",
   "id": "17c6188e-c2d8-4da5-966f-a42246e640de",
   "metadata": {},
   "source": [
    "<h4>What vehicle type has the most road accident?</h4>\n",
    "<br>"
   ]
  },
  {
   "cell_type": "code",
   "execution_count": 67,
   "id": "c922f2e4-84e6-4e06-aaa4-3ba05904d52c",
   "metadata": {},
   "outputs": [],
   "source": [
    "AS = accident[accident['Accident_Severity'] == 'Fatal']"
   ]
  },
  {
   "cell_type": "code",
   "execution_count": 68,
   "id": "5e5f81df-720b-4e75-9bc6-278db607391f",
   "metadata": {},
   "outputs": [
    {
     "data": {
      "text/plain": [
       "Vehicle_Type\n",
       "Car                                      6577\n",
       "Van / Goods 3.5 tonnes mgw or under       467\n",
       "Motorcycle over 500cc                     339\n",
       "Bus or coach (17 or more pass seats)      325\n",
       "Goods 7.5 tonnes mgw and over             216\n",
       "Motorcycle 125cc and under                189\n",
       "Taxi/Private hire car                     155\n",
       "Motorcycle over 125cc and up to 500cc     105\n",
       "Motorcycle 50cc and under                  95\n",
       "Other vehicle                              70\n",
       "Goods over 3.5t. and under 7.5t            67\n",
       "Minibus (8 - 16 passenger seats)           29\n",
       "Agricultural vehicle                       21\n",
       "Pedal cycle                                 6\n",
       "Name: count, dtype: int64"
      ]
     },
     "execution_count": 68,
     "metadata": {},
     "output_type": "execute_result"
    }
   ],
   "source": [
    "AS['Vehicle_Type'].value_counts()"
   ]
  },
  {
   "cell_type": "code",
   "execution_count": 69,
   "id": "8f0e65d8-8457-4e98-adcc-74cde88f47cf",
   "metadata": {},
   "outputs": [],
   "source": [
    "AS = accident[accident['Accident_Severity'] == 'Serious']"
   ]
  },
  {
   "cell_type": "code",
   "execution_count": 70,
   "id": "ab0ed8ee-f5b6-43e8-8541-89519f8ef6c8",
   "metadata": {},
   "outputs": [
    {
     "data": {
      "text/plain": [
       "Vehicle_Type\n",
       "Car                                      66461\n",
       "Van / Goods 3.5 tonnes mgw or under       4554\n",
       "Motorcycle over 500cc                     3457\n",
       "Bus or coach (17 or more pass seats)      3373\n",
       "Goods 7.5 tonnes mgw and over             2321\n",
       "Motorcycle 125cc and under                2031\n",
       "Taxi/Private hire car                     1771\n",
       "Motorcycle 50cc and under                 1014\n",
       "Motorcycle over 125cc and up to 500cc     1014\n",
       "Goods over 3.5t. and under 7.5t            857\n",
       "Other vehicle                              767\n",
       "Agricultural vehicle                       282\n",
       "Minibus (8 - 16 passenger seats)           276\n",
       "Pedal cycle                                 39\n",
       "Name: count, dtype: int64"
      ]
     },
     "execution_count": 70,
     "metadata": {},
     "output_type": "execute_result"
    }
   ],
   "source": [
    "AS['Vehicle_Type'].value_counts()"
   ]
  },
  {
   "cell_type": "code",
   "execution_count": 71,
   "id": "3694d369-e4f1-443c-bc58-3f6ea08e1d4a",
   "metadata": {},
   "outputs": [],
   "source": [
    "AS = accident[accident['Accident_Severity'] == 'Slight']\n"
   ]
  },
  {
   "cell_type": "code",
   "execution_count": 72,
   "id": "be20f51c-6efa-4efc-b66d-7b1a32bffe0b",
   "metadata": {},
   "outputs": [
    {
     "data": {
      "text/plain": [
       "Vehicle_Type\n",
       "Car                                      424954\n",
       "Van / Goods 3.5 tonnes mgw or under       29139\n",
       "Bus or coach (17 or more pass seats)      22180\n",
       "Motorcycle over 500cc                     21861\n",
       "Goods 7.5 tonnes mgw and over             14770\n",
       "Motorcycle 125cc and under                13049\n",
       "Taxi/Private hire car                     11368\n",
       "Motorcycle over 125cc and up to 500cc      6537\n",
       "Motorcycle 50cc and under                  6494\n",
       "Goods over 3.5t. and under 7.5t            5172\n",
       "Other vehicle                              4800\n",
       "Minibus (8 - 16 passenger seats)           1671\n",
       "Agricultural vehicle                       1644\n",
       "Pedal cycle                                 152\n",
       "Data missing or out of range                  6\n",
       "Ridden horse                                  4\n",
       "Name: count, dtype: int64"
      ]
     },
     "execution_count": 72,
     "metadata": {},
     "output_type": "execute_result"
    }
   ],
   "source": [
    "AS['Vehicle_Type'].value_counts()"
   ]
  },
  {
   "cell_type": "markdown",
   "id": "4f55358f-6ecc-44ff-8267-01aeb0876c7a",
   "metadata": {},
   "source": [
    "<br>\n",
    "<h3>Insigth No. 10</h3>"
   ]
  },
  {
   "cell_type": "markdown",
   "id": "e122e2ee-db71-42f5-af4c-faf2887e50fb",
   "metadata": {},
   "source": [
    "<h4>Based on the result, Car vehicle type has the most fatal, serious, slight accident when it comes to accident severity. </h4>\n",
    "<hr>"
   ]
  },
  {
   "cell_type": "markdown",
   "id": "fe76463e-e446-4566-ba11-8c2af5cc4b8b",
   "metadata": {},
   "source": [
    "<br>\n",
    "<h3>Question No. 11</h3>"
   ]
  },
  {
   "cell_type": "markdown",
   "id": "9b430717-e2e1-452f-8fb2-bcb615a1bb61",
   "metadata": {},
   "source": [
    "<h4>Does weather conditions can affect road accident?</h4>\n",
    "<br>"
   ]
  },
  {
   "cell_type": "code",
   "execution_count": 73,
   "id": "f2b9194e-3b87-4bd8-8146-8db44378d7f6",
   "metadata": {},
   "outputs": [],
   "source": [
    "WC = accident['Weather_Conditions'].value_counts()"
   ]
  },
  {
   "cell_type": "code",
   "execution_count": 74,
   "id": "d8882b9f-b694-45ce-90ec-2c43f21fe8e1",
   "metadata": {},
   "outputs": [
    {
     "data": {
      "text/plain": [
       "Index(['Fine no high winds', 'Raining no high winds', 'Other',\n",
       "       'Raining + high winds', 'Fine + high winds', 'Snowing no high winds',\n",
       "       'Fog or mist', 'Snowing + high winds'],\n",
       "      dtype='object', name='Weather_Conditions')"
      ]
     },
     "execution_count": 74,
     "metadata": {},
     "output_type": "execute_result"
    }
   ],
   "source": [
    "WC.index"
   ]
  },
  {
   "cell_type": "code",
   "execution_count": 75,
   "id": "f52f7667-e97b-4929-a4ff-b68e546855a9",
   "metadata": {},
   "outputs": [
    {
     "data": {
      "text/plain": [
       "array([535013,  79696,  17150,   9615,   8554,   6238,   3528,    885])"
      ]
     },
     "execution_count": 75,
     "metadata": {},
     "output_type": "execute_result"
    }
   ],
   "source": [
    "WC.values"
   ]
  },
  {
   "cell_type": "code",
   "execution_count": 76,
   "id": "ff4c540c-d0e1-4bd0-997a-4db3864b648e",
   "metadata": {},
   "outputs": [
    {
     "data": {
      "image/png": "[encoded data removed]",
      "text/plain": [
       "<Figure size 1700x400 with 1 Axes>"
      ]
     },
     "metadata": {},
     "output_type": "display_data"
    }
   ],
   "source": [
    "plt.figure(figsize=(17, 4))\n",
    "plt.bar(WC.index, WC.values, color= ['red', 'yellow', 'green', 'blue'])\n",
    "plt.xlabel('WEATHER CONDITIONS'), \n",
    "plt.ylabel('NUMBERS OF ACCIDENT')\n",
    "plt.title('WEATHER CONDITIONS VALUE COUNTS')\n",
    "plt.show()"
   ]
  },
  {
   "cell_type": "markdown",
   "id": "83bb48a2-a665-4c57-8e63-ca322c402efe",
   "metadata": {},
   "source": [
    "<br>\n",
    "<h3>Insigth No. 11</h3>"
   ]
  },
  {
   "cell_type": "markdown",
   "id": "f623bba7-3895-4417-a647-210a6de11f0f",
   "metadata": {},
   "source": [
    "<h4>Based on the result, fine no winds weather condition has the highest accident rate. It means that there's a small chance that weather conditions can affect road accident</h4>\n",
    "<hr>"
   ]
  },
  {
   "cell_type": "markdown",
   "id": "b0ed6992-949b-4808-bdb5-9c58a3dc722a",
   "metadata": {},
   "source": [
    "<br>\n",
    "<h3>Questions No. 12</h3>"
   ]
  },
  {
   "cell_type": "markdown",
   "id": "c9b3b79c-a7ce-4773-a506-c89b47e0d847",
   "metadata": {},
   "source": [
    "<H4>What district area has the most fatal accident?</H4>\n",
    "<br>"
   ]
  },
  {
   "cell_type": "code",
   "execution_count": 77,
   "id": "58d15954-bd02-49e4-bad6-bce0104a225f",
   "metadata": {},
   "outputs": [],
   "source": [
    "District_Area_fatal = accident[accident['Accident_Severity'] == 'Fatal']"
   ]
  },
  {
   "cell_type": "code",
   "execution_count": 78,
   "id": "24d6c6fa-6360-4a31-a28d-66ccdb6ecf34",
   "metadata": {},
   "outputs": [
    {
     "data": {
      "text/plain": [
       "District Area\n",
       "Birmingham                  105\n",
       "Leeds                        93\n",
       "Highland                     88\n",
       "East Riding of Yorkshire     85\n",
       "Bradford                     71\n",
       "                           ... \n",
       "Havant                        2\n",
       "Orkney Islands                2\n",
       "Harlow                        1\n",
       "Clackmannanshire              1\n",
       "Stevenage                     1\n",
       "Name: count, Length: 422, dtype: int64"
      ]
     },
     "execution_count": 78,
     "metadata": {},
     "output_type": "execute_result"
    }
   ],
   "source": [
    "District_Area_fatal['District Area'].value_counts()"
   ]
  },
  {
   "cell_type": "markdown",
   "id": "c280865e-61c4-403b-8686-3ca39d842517",
   "metadata": {},
   "source": [
    "<h3>Insigth No. 12</h3>"
   ]
  },
  {
   "cell_type": "markdown",
   "id": "92ef20b7-b617-4081-997a-05b2799b35fc",
   "metadata": {},
   "source": [
    "<h4> District of Birmingham has the most fatal accident</h4>\n",
    "<hr>"
   ]
  },
  {
   "cell_type": "markdown",
   "id": "20477cd0-03a1-444d-aecf-d3e8db547bcb",
   "metadata": {},
   "source": [
    "<br>\n",
    "<h3>Questions No. 13</h3>\n",
    "<h4>Does weather conditions affect road accident in Birmingham?</h4>\n",
    "<br>"
   ]
  },
  {
   "cell_type": "code",
   "execution_count": 79,
   "id": "b3011a5c-2b93-4e6d-9f0c-90e5f366b1b2",
   "metadata": {},
   "outputs": [
    {
     "data": {
      "text/plain": [
       "Weather_Conditions\n",
       "Fine no high winds       10638\n",
       "Raining no high winds     1717\n",
       "Other                      713\n",
       "Snowing no high winds      127\n",
       "Raining + high winds       126\n",
       "Fine + high winds          125\n",
       "Fog or mist                 37\n",
       "Snowing + high winds         8\n",
       "Name: count, dtype: int64"
      ]
     },
     "execution_count": 79,
     "metadata": {},
     "output_type": "execute_result"
    }
   ],
   "source": [
    "weather_conditions_birmingham = accident[accident['District Area'] == 'Birmingham']\n",
    "weather_conditions_birmingham['Weather_Conditions'].value_counts()"
   ]
  },
  {
   "cell_type": "markdown",
   "id": "54ed97ac-3d27-470b-a39c-ca573dd94733",
   "metadata": {},
   "source": [
    "<br>\n",
    "<h3>Insigth No. 13</h3>\n",
    "<h4>Based on the result theres a chance that weather conditions can affect road accident in district of Birmingham</h4>\n",
    "<hr>"
   ]
  },
  {
   "cell_type": "markdown",
   "id": "a9b286dd-1958-4a30-b692-f973c71d09e4",
   "metadata": {},
   "source": [
    "<br>\n",
    "<h3>Questions No. 14</h3>"
   ]
  },
  {
   "cell_type": "markdown",
   "id": "fd709542-bd02-457c-8a41-d7441654dd4a",
   "metadata": {},
   "source": [
    "\n",
    "<h4>Has the number of road accidents increased with each passing year?</h4>\n",
    "<br>"
   ]
  },
  {
   "cell_type": "code",
   "execution_count": 80,
   "id": "13c8476b-5081-4c2b-9d5a-80991cb022d8",
   "metadata": {},
   "outputs": [
    {
     "data": {
      "text/plain": [
       "Accident Date\n",
       "2019    182115\n",
       "2020    170591\n",
       "2021    163554\n",
       "2022    144419\n",
       "Name: count, dtype: int64"
      ]
     },
     "execution_count": 80,
     "metadata": {},
     "output_type": "execute_result"
    }
   ],
   "source": [
    "pd.to_datetime(accident['Accident Date'], errors = 'coerce').dt.year.value_counts().sort_index()"
   ]
  },
  {
   "cell_type": "markdown",
   "id": "a2cd245c-b707-40a6-8d3f-f04d85922cae",
   "metadata": {},
   "source": [
    "<br>\n",
    "<h3>Insigth No. 14</h3>"
   ]
  },
  {
   "cell_type": "markdown",
   "id": "c16158c7-3803-446d-b85c-46638e00c852",
   "metadata": {},
   "source": [
    "<h4>In year 2019 there's 182,115 cases of accident, Next is year 2020 there's 170,591 road accident cases, year 2021 has 163,554 road accident cases and last year 2022 has 144,419 road accident. It shows that as the years go by, the number of road accident cases increases.</h4>"
   ]
  },
  {
   "cell_type": "markdown",
   "id": "67bca42f-0747-45a8-86ca-a72620974790",
   "metadata": {},
   "source": [
    "<hr>"
   ]
  },
  {
   "cell_type": "markdown",
   "id": "ce984808-a8e9-41ea-95bf-f62459e7a5fc",
   "metadata": {},
   "source": [
    "<br>\n",
    "<h3>Question No. 15</h3>\n"
   ]
  },
  {
   "cell_type": "markdown",
   "id": "8e825f00-81a4-433e-b445-627d94cf88f4",
   "metadata": {},
   "source": [
    "<h4> what is the most common accident severity in all cases of accident in the year 2019.</h4>\n",
    "<br>"
   ]
  },
  {
   "cell_type": "code",
   "execution_count": 81,
   "id": "133c5e52-5274-4ccd-9bea-96fd56b0961c",
   "metadata": {},
   "outputs": [],
   "source": [
    "year_2019 = accident[accident['Accident Date'] == '2019'] "
   ]
  },
  {
   "cell_type": "code",
   "execution_count": 82,
   "id": "41d866b3-3fcd-43bf-b690-2c39fe921b22",
   "metadata": {},
   "outputs": [
    {
     "data": {
      "text/plain": [
       "Accident_Severity\n",
       "Slight     271\n",
       "Serious     53\n",
       "Fatal       11\n",
       "Name: count, dtype: int64"
      ]
     },
     "execution_count": 82,
     "metadata": {},
     "output_type": "execute_result"
    }
   ],
   "source": [
    "year_2019['Accident_Severity'].value_counts()"
   ]
  },
  {
   "cell_type": "markdown",
   "id": "b8213292-f1c3-4ccc-8a74-a66f65c4e1a5",
   "metadata": {},
   "source": [
    "<br>\n",
    "<h3>Insigth No. 15</h3>"
   ]
  },
  {
   "cell_type": "markdown",
   "id": "dcfa3e24-278d-4f5d-9366-b532f86186b6",
   "metadata": {},
   "source": [
    "<h4>Based on the result sligth injury is the most common accident severity in the year 2019 it has 271 accident cases. Next is serious injury has a 53 accident cases and last is fatal that has only 11 accident cases</h4>"
   ]
  },
  {
   "cell_type": "markdown",
   "id": "28829db3-22f7-4b67-bb00-b9c1a5c81f7c",
   "metadata": {},
   "source": [
    "<hr>\n",
    "<br>\n",
    "<h3>Question No. 16</h3>"
   ]
  },
  {
   "cell_type": "markdown",
   "id": "610945dc-0d50-46a4-88cc-80bb8be5e839",
   "metadata": {},
   "source": [
    "<h4>In the year 2019 what vehicle type has the most accident cases of sligth injury? </h4>"
   ]
  },
  {
   "cell_type": "code",
   "execution_count": 83,
   "id": "4eea1752-5a89-435b-ab5b-12fa9bf54a67",
   "metadata": {},
   "outputs": [],
   "source": [
    "Sligth_2019 = year_2019[year_2019['Accident_Severity'] == 'Slight']"
   ]
  },
  {
   "cell_type": "code",
   "execution_count": 84,
   "id": "5763e79d-d148-463b-900c-941f33239651",
   "metadata": {},
   "outputs": [
    {
     "data": {
      "text/plain": [
       "Vehicle_Type\n",
       "Car                                      190\n",
       "Goods 7.5 tonnes mgw and over             17\n",
       "Van / Goods 3.5 tonnes mgw or under       16\n",
       "Motorcycle over 500cc                     14\n",
       "Bus or coach (17 or more pass seats)      13\n",
       "Taxi/Private hire car                      8\n",
       "Motorcycle 50cc and under                  5\n",
       "Motorcycle 125cc and under                 4\n",
       "Motorcycle over 125cc and up to 500cc      3\n",
       "Agricultural vehicle                       1\n",
       "Name: count, dtype: int64"
      ]
     },
     "execution_count": 84,
     "metadata": {},
     "output_type": "execute_result"
    }
   ],
   "source": [
    "Sligth_2019['Vehicle_Type'].value_counts()"
   ]
  },
  {
   "cell_type": "markdown",
   "id": "57290cc9-681b-4c72-bce5-153633f7057d",
   "metadata": {},
   "source": [
    "<br>\n",
    "<h3>Insigth No. 16</h3>"
   ]
  },
  {
   "cell_type": "markdown",
   "id": "af47c349-7407-4219-aa1b-b2992142c72e",
   "metadata": {},
   "source": [
    "<h4>Car has the most cases of sligth injury</h4>\n",
    "<hr>"
   ]
  },
  {
   "cell_type": "markdown",
   "id": "600b2d19-6698-4cc6-bf44-5cb0087961b1",
   "metadata": {},
   "source": [
    "<br>\n",
    "<h3>Questions No. 17</h3>"
   ]
  },
  {
   "cell_type": "markdown",
   "id": "a6b81d16-8097-40f9-8660-98ffbee5e128",
   "metadata": {},
   "source": [
    "<h4>In year 2019 what vehicle type has the most cases of serious injury?</h4>\n",
    "<br>"
   ]
  },
  {
   "cell_type": "code",
   "execution_count": 85,
   "id": "7a42672b-b7ad-46c0-98bf-0f08a2ec1974",
   "metadata": {},
   "outputs": [
    {
     "data": {
      "text/plain": [
       "Vehicle_Type\n",
       "Car                                      190\n",
       "Goods 7.5 tonnes mgw and over             17\n",
       "Van / Goods 3.5 tonnes mgw or under       16\n",
       "Motorcycle over 500cc                     14\n",
       "Bus or coach (17 or more pass seats)      13\n",
       "Taxi/Private hire car                      8\n",
       "Motorcycle 50cc and under                  5\n",
       "Motorcycle 125cc and under                 4\n",
       "Motorcycle over 125cc and up to 500cc      3\n",
       "Agricultural vehicle                       1\n",
       "Name: count, dtype: int64"
      ]
     },
     "execution_count": 85,
     "metadata": {},
     "output_type": "execute_result"
    }
   ],
   "source": [
    "Serious_2019 = year_2019[year_2019['Accident_Severity'] == 'Serious']\n",
    "Sligth_2019['Vehicle_Type'].value_counts()"
   ]
  },
  {
   "cell_type": "markdown",
   "id": "c3a10ec9-0d86-4a73-8a14-3f795a47d9e3",
   "metadata": {},
   "source": [
    "<br>\n",
    "<h3>Insigth No. 17</h3>"
   ]
  },
  {
   "cell_type": "markdown",
   "id": "48edb769-966b-481e-bb52-4341da35cd15",
   "metadata": {},
   "source": [
    "<h4>Car vehicle type has the most cases of serious injury</h4>\n",
    "<hr>\n",
    "<br>"
   ]
  },
  {
   "cell_type": "markdown",
   "id": "1f5771b1-d3fd-4c3d-8d98-8e05ef11db18",
   "metadata": {},
   "source": [
    "<h3>Questions No. 18</h3>\n",
    "<h4>In year 2019 what weather conditions has the most accident cases?</h4>\n",
    "<br>"
   ]
  },
  {
   "cell_type": "code",
   "execution_count": 86,
   "id": "1bb1296f-5182-4a12-8954-1cb52f78126a",
   "metadata": {},
   "outputs": [
    {
     "data": {
      "text/plain": [
       "Weather_Conditions\n",
       "Fine no high winds       184\n",
       "Raining no high winds     70\n",
       "Fine + high winds         33\n",
       "Raining + high winds      27\n",
       "Other                     15\n",
       "Snowing no high winds      4\n",
       "Snowing + high winds       2\n",
       "Name: count, dtype: int64"
      ]
     },
     "execution_count": 86,
     "metadata": {},
     "output_type": "execute_result"
    }
   ],
   "source": [
    "year_2019['Weather_Conditions'].value_counts()"
   ]
  },
  {
   "cell_type": "markdown",
   "id": "0004b1e3-7e16-4392-98c8-c38ff6ee4a9c",
   "metadata": {},
   "source": [
    "<br>\n",
    "<h3>Insigth No. 18</h3>\n",
    "<h4>Fine no winds weather conditions has the most accident cases in year 2019</h4>\n",
    "<hr>"
   ]
  },
  {
   "cell_type": "markdown",
   "id": "e2428065-63c1-4b0e-b85f-c6e5b4f132f2",
   "metadata": {},
   "source": [
    "<br>\n",
    "<h3>Question No. 19</h3>"
   ]
  },
  {
   "cell_type": "markdown",
   "id": "18c13d33-8b47-4f39-8ed6-8d15d9028411",
   "metadata": {},
   "source": [
    "<h4>In year 2019 what road surface conditions has the most accident cases?</h4>\n",
    "<br>"
   ]
  },
  {
   "cell_type": "code",
   "execution_count": 87,
   "id": "9f19106e-5555-400e-ae84-60b109c2980d",
   "metadata": {},
   "outputs": [
    {
     "data": {
      "text/plain": [
       "Road_Surface_Conditions\n",
       "Wet or damp     230\n",
       "Dry              93\n",
       "Snow              6\n",
       "Frost or ice      6\n",
       "Name: count, dtype: int64"
      ]
     },
     "execution_count": 87,
     "metadata": {},
     "output_type": "execute_result"
    }
   ],
   "source": [
    "year_2019['Road_Surface_Conditions'].value_counts()"
   ]
  },
  {
   "cell_type": "markdown",
   "id": "bc34c757-72a1-40ac-8a0d-fff700722138",
   "metadata": {},
   "source": [
    "<br>\n",
    "<h3>Insigth No. 19</h3>\n",
    "<h4>In the year 2019 Wet or damp has the most accident cases in term of road surface conditions</h4>"
   ]
  },
  {
   "cell_type": "markdown",
   "id": "d2aa0f59-7b30-42be-94b3-181f297b344b",
   "metadata": {},
   "source": [
    "<hr>\n",
    "<br>\n",
    "<h3>Question No. 20</h3>"
   ]
  },
  {
   "cell_type": "markdown",
   "id": "21ecc117-5c00-490c-89fa-4350b095a9d8",
   "metadata": {},
   "source": [
    "\n",
    "\n",
    "<h4>In year 2019 what vehicle type has the most case of fatal injury?</h4>\n",
    "<br>"
   ]
  },
  {
   "cell_type": "code",
   "execution_count": 88,
   "id": "fefd6101-8289-4e64-b7f4-f49fd9b7dc62",
   "metadata": {},
   "outputs": [],
   "source": [
    "fatal_2019 = year_2019[year_2019['Accident_Severity'] == 'Fatal']"
   ]
  },
  {
   "cell_type": "code",
   "execution_count": 89,
   "id": "ae1666cd-cc35-46ef-b242-0481b969897b",
   "metadata": {},
   "outputs": [
    {
     "data": {
      "text/plain": [
       "Vehicle_Type\n",
       "Car                                      9\n",
       "Van / Goods 3.5 tonnes mgw or under      1\n",
       "Motorcycle over 125cc and up to 500cc    1\n",
       "Name: count, dtype: int64"
      ]
     },
     "execution_count": 89,
     "metadata": {},
     "output_type": "execute_result"
    }
   ],
   "source": [
    "fatal_2019['Vehicle_Type'].value_counts()"
   ]
  },
  {
   "cell_type": "markdown",
   "id": "5b1a0c7d-beaa-4b9a-ad98-da14a37f433d",
   "metadata": {},
   "source": [
    "<br>\n",
    "<h3>Insigth No. 20</h3>"
   ]
  },
  {
   "cell_type": "markdown",
   "id": "3184c45f-e758-45d3-ad49-53a7a5178064",
   "metadata": {},
   "source": [
    "<h4>In fatal injury car has the most cases</h4>"
   ]
  },
  {
   "cell_type": "markdown",
   "id": "0bd2fab4-e964-4455-a2f9-e0f5d9799d54",
   "metadata": {},
   "source": [
    "<hr>\n",
    "<br>\n",
    "<h3>Question No. 21</h3>"
   ]
  },
  {
   "cell_type": "markdown",
   "id": "1d9da81e-d1bc-4c25-a25c-930ac6edc8a2",
   "metadata": {},
   "source": [
    "<h4>In year 2019 what vehicle type has the most case accident?</h4>\n",
    "<br>"
   ]
  },
  {
   "cell_type": "code",
   "execution_count": 90,
   "id": "474b8408-4fbe-4377-a98d-dc75ad1b36e5",
   "metadata": {},
   "outputs": [
    {
     "data": {
      "text/plain": [
       "Vehicle_Type\n",
       "Car                                      236\n",
       "Goods 7.5 tonnes mgw and over             19\n",
       "Van / Goods 3.5 tonnes mgw or under       18\n",
       "Motorcycle over 500cc                     17\n",
       "Bus or coach (17 or more pass seats)      16\n",
       "Taxi/Private hire car                      8\n",
       "Motorcycle 50cc and under                  7\n",
       "Motorcycle over 125cc and up to 500cc      6\n",
       "Motorcycle 125cc and under                 5\n",
       "Agricultural vehicle                       1\n",
       "Other vehicle                              1\n",
       "Minibus (8 - 16 passenger seats)           1\n",
       "Name: count, dtype: int64"
      ]
     },
     "execution_count": 90,
     "metadata": {},
     "output_type": "execute_result"
    }
   ],
   "source": [
    "year_2019['Vehicle_Type'].value_counts()"
   ]
  },
  {
   "cell_type": "markdown",
   "id": "9541942b-206a-4d15-b322-e7bf40ab602f",
   "metadata": {},
   "source": [
    "<br>\n",
    "<h4>Insigth No. 21</h4>"
   ]
  },
  {
   "cell_type": "markdown",
   "id": "9f379d98-68e6-4b66-baca-c6d23dd2c747",
   "metadata": {},
   "source": [
    "<h4>Based on the result in year 2019 car has the most accident case</h4>\n",
    "<HR>"
   ]
  },
  {
   "cell_type": "markdown",
   "id": "531d5a3a-30a2-482c-860c-722111916854",
   "metadata": {},
   "source": [
    "<br>\n",
    "<h3>Question No. 22</h3>\n",
    "<h4> what is the most common accident severity in all cases of accident in the year 2020.</h4>\n",
    "<br>"
   ]
  },
  {
   "cell_type": "code",
   "execution_count": 91,
   "id": "003a4799-e58e-4ea1-ae66-a6a6f04418dc",
   "metadata": {},
   "outputs": [],
   "source": [
    "year_2020 = accident[accident['Accident Date'] == '2020'] "
   ]
  },
  {
   "cell_type": "code",
   "execution_count": 92,
   "id": "99e6c4cd-aa8b-437a-b0bb-50e33023e048",
   "metadata": {},
   "outputs": [
    {
     "data": {
      "text/plain": [
       "Accident_Severity\n",
       "Slight     201\n",
       "Serious     49\n",
       "Fatal        7\n",
       "Name: count, dtype: int64"
      ]
     },
     "execution_count": 92,
     "metadata": {},
     "output_type": "execute_result"
    }
   ],
   "source": [
    "year_2020['Accident_Severity'].value_counts()"
   ]
  },
  {
   "cell_type": "markdown",
   "id": "4b572fcf-9ec9-487c-8f9f-1069eb56bdb9",
   "metadata": {},
   "source": [
    "<br>\n",
    "<h3>Insigth No. 22</h3>\n",
    "<h4>Based on the result sligth injury is the most common accident severity in the year 2020 it has 201 accident cases. Next is serious injury has a 49 accident cases and last is fatal that has only 7 accident cases</h4>\n",
    "<hr>\n"
   ]
  },
  {
   "cell_type": "markdown",
   "id": "60c4d9e5-d09b-4367-84d0-66558bf0c02d",
   "metadata": {},
   "source": [
    "<br>\n",
    "<h3>Question No. 23</h3>"
   ]
  },
  {
   "cell_type": "markdown",
   "id": "e3968526-5b9e-4206-9d0f-a54b92337c49",
   "metadata": {},
   "source": [
    "<h4>In year 2020 what weather conditions has the most accident cases?</h4>\n",
    "<br>"
   ]
  },
  {
   "cell_type": "code",
   "execution_count": 93,
   "id": "8cf65c44-052c-4a2d-8523-54604e4651eb",
   "metadata": {},
   "outputs": [
    {
     "data": {
      "text/plain": [
       "Weather_Conditions\n",
       "Fine no high winds       184\n",
       "Raining no high winds     57\n",
       "Other                      8\n",
       "Fog or mist                4\n",
       "Raining + high winds       3\n",
       "Fine + high winds          1\n",
       "Name: count, dtype: int64"
      ]
     },
     "execution_count": 93,
     "metadata": {},
     "output_type": "execute_result"
    }
   ],
   "source": [
    "year_2020['Weather_Conditions'].value_counts()\n"
   ]
  },
  {
   "cell_type": "markdown",
   "id": "1a8fe804-0b5b-44e7-9eae-0b8d4c0ec450",
   "metadata": {},
   "source": [
    "<br>\n",
    "<h3>Insigth No. 23</h3>\n",
    "<h4>Fine no winds weather conditions has the most accident cases in year 2020 </h4>\n",
    "<hr>"
   ]
  },
  {
   "cell_type": "markdown",
   "id": "9a57f889-4c7a-4e7b-a468-c38e57363a75",
   "metadata": {},
   "source": [
    "<br>\n",
    "<h3>Question No. 24</h3>\n",
    "<h4>In year 2020 what vehicle type has the most cases of serious injury?</h4>"
   ]
  },
  {
   "cell_type": "code",
   "execution_count": 94,
   "id": "be567d42-2295-4f12-b994-53fa4a5d13d8",
   "metadata": {},
   "outputs": [
    {
     "data": {
      "text/plain": [
       "Vehicle_Type\n",
       "Car                                     35\n",
       "Van / Goods 3.5 tonnes mgw or under      4\n",
       "Goods 7.5 tonnes mgw and over            2\n",
       "Motorcycle 50cc and under                2\n",
       "Bus or coach (17 or more pass seats)     2\n",
       "Motorcycle over 500cc                    2\n",
       "Taxi/Private hire car                    1\n",
       "Goods over 3.5t. and under 7.5t          1\n",
       "Name: count, dtype: int64"
      ]
     },
     "execution_count": 94,
     "metadata": {},
     "output_type": "execute_result"
    }
   ],
   "source": [
    "serious = year_2020[year_2020['Accident_Severity'] == 'Serious']\n",
    "serious['Vehicle_Type'].value_counts()"
   ]
  },
  {
   "cell_type": "markdown",
   "id": "ece2f2d4-e90e-4894-8557-7231c9ff0317",
   "metadata": {},
   "source": [
    "<br>\n",
    "<h3>Insigth No. 24</h3>\n",
    "<h4>Car has the most cases of sligth serious</h4>\n",
    "<hr>"
   ]
  },
  {
   "cell_type": "markdown",
   "id": "f0cb90bd-d35c-4794-8495-a401099265e3",
   "metadata": {},
   "source": [
    "<br>\n",
    "<h3>Question No. 25</h3>\n",
    "<h4>In year 2020 what  road surface conditions has the most accident cases?</h4>\n",
    "<br>"
   ]
  },
  {
   "cell_type": "code",
   "execution_count": 95,
   "id": "ffa2c141-58d8-4dff-bfbf-48304c766a81",
   "metadata": {},
   "outputs": [],
   "source": [
    "road_surface = year_2020['Road_Surface_Conditions'].value_counts()"
   ]
  },
  {
   "cell_type": "code",
   "execution_count": 96,
   "id": "8f28a671-0e59-495a-9a2f-587db95514e7",
   "metadata": {},
   "outputs": [
    {
     "data": {
      "image/png": "[encoded data removed]",
      "text/plain": [
       "<Figure size 640x480 with 1 Axes>"
      ]
     },
     "metadata": {},
     "output_type": "display_data"
    }
   ],
   "source": [
    "plt.pie(road_surface, \n",
    "        labels = road_surface.index,\n",
    "        startangle= 90,\n",
    "        autopct = '%1.1f%%',\n",
    "        colors = ['red','yellow','green'])\n",
    "plt.show()"
   ]
  },
  {
   "cell_type": "markdown",
   "id": "93b5bc7f-b817-4e45-8e26-859b20caa529",
   "metadata": {},
   "source": [
    "<br>\n",
    "<h3>Insigth No. 25</h3>\n",
    "<h4>In the year 2020 Wet or damp has the most accident cases in term of road surface conditions</h4>\n",
    "<hr>\n"
   ]
  },
  {
   "cell_type": "markdown",
   "id": "94e9d905-225b-4e73-a076-7951de51ce6a",
   "metadata": {},
   "source": [
    "<br>\n",
    "<h2>6 Data Visualization In Random District Area</h2>\n",
    "<br>"
   ]
  },
  {
   "cell_type": "markdown",
   "id": "90da0042-9fb0-4369-8a67-229159115f5f",
   "metadata": {},
   "source": [
    "<h3>Visualization of road accident record per year and month in district of London</h3>\n",
    "<br>"
   ]
  },
  {
   "cell_type": "code",
   "execution_count": 97,
   "id": "f27cf2f8-2330-4c68-92f2-a38b0ec456ca",
   "metadata": {},
   "outputs": [],
   "source": [
    "london_df = accident[accident['District Area'] == 'City of London']"
   ]
  },
  {
   "cell_type": "code",
   "execution_count": 98,
   "id": "c7afb66d-4d16-4079-83c1-650f74b3ef43",
   "metadata": {},
   "outputs": [
    {
     "data": {
      "image/png": "[encoded data removed]",
      "text/plain": [
       "<Figure size 1000x500 with 1 Axes>"
      ]
     },
     "metadata": {},
     "output_type": "display_data"
    }
   ],
   "source": [
    "monthly_data = london_df.groupby(['Year', 'Month']).size()\n",
    "\n",
    "\n",
    "monthly_data = monthly_data.unstack(level=0)\n",
    "\n",
    "\n",
    "monthly_data.plot(\n",
    "    marker='>', \n",
    "    figsize=(10, 5),\n",
    "    title='Monthly Road Accidents by Year (2019-2022)'\n",
    ")\n",
    "plt.xticks(range(1, 13), ['Jan','Feb','Mar','Apr','May','Jun','Jul','Aug','Sep','Oct','Nov','Dec'])\n",
    "\n",
    "plt.grid(alpha=0.5)\n",
    "plt.show()"
   ]
  },
  {
   "cell_type": "markdown",
   "id": "dd6e556a-fb10-4431-8e14-336c12eed562",
   "metadata": {},
   "source": [
    "<hr>"
   ]
  },
  {
   "cell_type": "markdown",
   "id": "86706a29-4cf4-40e4-b981-6245b6e1ec4b",
   "metadata": {},
   "source": [
    "<br>\n",
    "<h3>Visualization of road accident record per year, month and day of week in district of Westminster</h3>\n",
    "<br>\n"
   ]
  },
  {
   "cell_type": "code",
   "execution_count": 99,
   "id": "92097f56-7755-416d-99db-593e7af908e4",
   "metadata": {},
   "outputs": [],
   "source": [
    "Westminster_df = accident[accident['District Area'] == 'Westminster']"
   ]
  },
  {
   "cell_type": "code",
   "execution_count": 100,
   "id": "e75f2e29-3531-4155-8c77-c0ef169c23bc",
   "metadata": {},
   "outputs": [
    {
     "data": {
      "image/png": "[encoded data removed]",
      "text/plain": [
       "<Figure size 640x480 with 1 Axes>"
      ]
     },
     "metadata": {},
     "output_type": "display_data"
    },
    {
     "data": {
      "image/png": "[encoded data removed]",
      "text/plain": [
       "<Figure size 640x480 with 1 Axes>"
      ]
     },
     "metadata": {},
     "output_type": "display_data"
    },
    {
     "name": "stdout",
     "output_type": "stream",
     "text": [
      "DayOfWeek\n",
      "Monday       603\n",
      "Tuesday      786\n",
      "Wednesday    902\n",
      "Thursday     890\n",
      "Friday       926\n",
      "Saturday     885\n",
      "Sunday       714\n",
      "Name: count, dtype: int64\n"
     ]
    },
    {
     "data": {
      "image/png": "[encoded data removed]",
      "text/plain": [
       "<Figure size 640x480 with 1 Axes>"
      ]
     },
     "metadata": {},
     "output_type": "display_data"
    }
   ],
   "source": [
    "accidents_per_year = Westminster_df['Year'].value_counts().sort_index()\n",
    "accidents_per_month = Westminster_df['Month'].value_counts().sort_index()\n",
    "accidents_per_day = Westminster_df['DayOfWeek'].value_counts().sort_index()\n",
    "\n",
    "\n",
    "#PER YEAR \n",
    "accidents_per_year.plot(kind='bar')\n",
    "plt.title('Accidents per Year')\n",
    "plt.xlabel('Year')\n",
    "plt.ylabel('Number of Accidents')\n",
    "plt.show()\n",
    "\n",
    "month_names = {\n",
    "    1: 'January', 2: 'February', 3: 'March', 4: 'April',\n",
    "    5: 'May', 6: 'June', 7: 'July', 8: 'August',\n",
    "    9: 'September', 10: 'October', 11: 'November', 12: 'December'\n",
    "}\n",
    "\n",
    "# Replace numerical months with their names\n",
    "accidents_per_month.index = accidents_per_month.index.map(month_names)\n",
    "\n",
    "\n",
    "accidents_per_month.plot(kind='bar')\n",
    "plt.title('Accidents per Month')\n",
    "plt.xlabel('Month')\n",
    "plt.ylabel('Number of Accidents')\n",
    "plt.show()\n",
    "\n",
    "\n",
    "#accident per day\n",
    "day_names = {\n",
    "    0: 'Monday',\n",
    "    1: 'Tuesday',\n",
    "    2: 'Wednesday',\n",
    "    3: 'Thursday',\n",
    "    4: 'Friday',\n",
    "    5: 'Saturday',\n",
    "    6: 'Sunday'\n",
    "}\n",
    "\n",
    "accidents_per_day.index = accidents_per_day.index.map(day_names)\n",
    "accidents_per_day.plot(kind='bar')\n",
    "print(accidents_per_day)"
   ]
  },
  {
   "cell_type": "markdown",
   "id": "7d48bad8-93e2-4023-a1db-bbcbba408018",
   "metadata": {},
   "source": [
    "<hr>\n",
    "<br>\n",
    "<h3>Visualization of road accident record per year, month and day of week in district of Shropshire</h3>\n",
    "<br>\n"
   ]
  },
  {
   "cell_type": "code",
   "execution_count": 101,
   "id": "7c7ca4de-24b1-480c-a51f-05ce031dd78d",
   "metadata": {},
   "outputs": [],
   "source": [
    "Shropshire_df = accident[accident['District Area'] == 'Shropshire']"
   ]
  },
  {
   "cell_type": "code",
   "execution_count": 102,
   "id": "a8df68a1-c924-4bf8-a3c1-778a5b82f1e8",
   "metadata": {},
   "outputs": [
    {
     "data": {
      "image/png": "[encoded data removed]",
      "text/plain": [
       "<Figure size 640x480 with 1 Axes>"
      ]
     },
     "metadata": {},
     "output_type": "display_data"
    },
    {
     "data": {
      "image/png": "[encoded data removed]",
      "text/plain": [
       "<Figure size 640x480 with 1 Axes>"
      ]
     },
     "metadata": {},
     "output_type": "display_data"
    },
    {
     "name": "stdout",
     "output_type": "stream",
     "text": [
      "DayOfWeek\n",
      "Monday       193\n",
      "Tuesday      199\n",
      "Wednesday    183\n",
      "Thursday     185\n",
      "Friday       174\n",
      "Saturday     225\n",
      "Sunday       184\n",
      "Name: count, dtype: int64\n"
     ]
    },
    {
     "data": {
      "image/png": "[encoded data removed]",
      "text/plain": [
       "<Figure size 640x480 with 1 Axes>"
      ]
     },
     "metadata": {},
     "output_type": "display_data"
    }
   ],
   "source": [
    "accidents_per_year = Shropshire_df['Year'].value_counts().sort_index()\n",
    "accidents_per_month = Shropshire_df['Month'].value_counts().sort_index()\n",
    "accidents_per_day = Shropshire_df['DayOfWeek'].value_counts().sort_index()\n",
    "\n",
    "\n",
    "#PER YEAR \n",
    "accidents_per_year.plot(kind='bar')\n",
    "plt.title('Accidents per Year')\n",
    "plt.xlabel('Year')\n",
    "plt.ylabel('Number of Accidents')\n",
    "plt.show()\n",
    "\n",
    "month_names = {\n",
    "    1: 'January', 2: 'February', 3: 'March', 4: 'April',\n",
    "    5: 'May', 6: 'June', 7: 'July', 8: 'August',\n",
    "    9: 'September', 10: 'October', 11: 'November', 12: 'December'\n",
    "}\n",
    "\n",
    "# Replace numerical months with their names\n",
    "accidents_per_month.index = accidents_per_month.index.map(month_names)\n",
    "\n",
    "\n",
    "accidents_per_month.plot(kind='bar')\n",
    "plt.title('Accidents per Month')\n",
    "plt.xlabel('Month')\n",
    "plt.ylabel('Number of Accidents')\n",
    "plt.show()\n",
    "\n",
    "\n",
    "#accident per day\n",
    "day_names = {\n",
    "    0: 'Monday',\n",
    "    1: 'Tuesday',\n",
    "    2: 'Wednesday',\n",
    "    3: 'Thursday',\n",
    "    4: 'Friday',\n",
    "    5: 'Saturday',\n",
    "    6: 'Sunday'\n",
    "}\n",
    "\n",
    "accidents_per_day.index = accidents_per_day.index.map(day_names)\n",
    "accidents_per_day.plot(kind='bar')\n",
    "print(accidents_per_day)"
   ]
  },
  {
   "cell_type": "markdown",
   "id": "34aa9490-67cd-464c-8ad7-a912d1261ced",
   "metadata": {},
   "source": [
    "<hr>\n",
    "<br>\n",
    "<h3>Visualization of road accident record per year, month and day of week in district of Hackney</h3>\n",
    "<br>\n"
   ]
  },
  {
   "cell_type": "code",
   "execution_count": 103,
   "id": "0666372f-f91e-446e-ace7-cad485d014e4",
   "metadata": {},
   "outputs": [],
   "source": [
    "Hackney_df = accident[accident['District Area'] == 'Hackney']"
   ]
  },
  {
   "cell_type": "code",
   "execution_count": 104,
   "id": "dab9898c-43cf-4bd3-8e27-14f2c2be842b",
   "metadata": {},
   "outputs": [
    {
     "data": {
      "image/png": "[encoded data removed]",
      "text/plain": [
       "<Figure size 640x480 with 1 Axes>"
      ]
     },
     "metadata": {},
     "output_type": "display_data"
    },
    {
     "data": {
      "image/png": "[encoded data removed]",
      "text/plain": [
       "<Figure size 640x480 with 1 Axes>"
      ]
     },
     "metadata": {},
     "output_type": "display_data"
    },
    {
     "name": "stdout",
     "output_type": "stream",
     "text": [
      "DayOfWeek\n",
      "Monday       365\n",
      "Tuesday      452\n",
      "Wednesday    464\n",
      "Thursday     511\n",
      "Friday       483\n",
      "Saturday     531\n",
      "Sunday       401\n",
      "Name: count, dtype: int64\n"
     ]
    },
    {
     "data": {
      "image/png": "[encoded data removed]",
      "text/plain": [
       "<Figure size 640x480 with 1 Axes>"
      ]
     },
     "metadata": {},
     "output_type": "display_data"
    }
   ],
   "source": [
    "accidents_per_year = Hackney_df['Year'].value_counts().sort_index()\n",
    "accidents_per_month = Hackney_df['Month'].value_counts().sort_index()\n",
    "accidents_per_day = Hackney_df['DayOfWeek'].value_counts().sort_index()\n",
    "\n",
    "\n",
    "#PER YEAR \n",
    "accidents_per_year.plot(kind='bar')\n",
    "plt.title('Accidents per Year')\n",
    "plt.xlabel('Year')\n",
    "plt.ylabel('Number of Accidents')\n",
    "plt.show()\n",
    "\n",
    "month_names = {\n",
    "    1: 'January', 2: 'February', 3: 'March', 4: 'April',\n",
    "    5: 'May', 6: 'June', 7: 'July', 8: 'August',\n",
    "    9: 'September', 10: 'October', 11: 'November', 12: 'December'\n",
    "}\n",
    "\n",
    "# Replace numerical months with their names\n",
    "accidents_per_month.index = accidents_per_month.index.map(month_names)\n",
    "\n",
    "\n",
    "accidents_per_month.plot(kind='bar')\n",
    "plt.title('Accidents per Month')\n",
    "plt.xlabel('Month')\n",
    "plt.ylabel('Number of Accidents')\n",
    "plt.show()\n",
    "\n",
    "\n",
    "#accident per day\n",
    "day_names = {\n",
    "    0: 'Monday',\n",
    "    1: 'Tuesday',\n",
    "    2: 'Wednesday',\n",
    "    3: 'Thursday',\n",
    "    4: 'Friday',\n",
    "    5: 'Saturday',\n",
    "    6: 'Sunday'\n",
    "}\n",
    "\n",
    "accidents_per_day.index = accidents_per_day.index.map(day_names)\n",
    "accidents_per_day.plot(kind='bar')\n",
    "print(accidents_per_day)"
   ]
  },
  {
   "cell_type": "markdown",
   "id": "e718b207-9de6-42b6-9370-40ee713a84aa",
   "metadata": {},
   "source": [
    "<hr>\n",
    "<br>\n",
    "<h3>Visualization of road accident record per year, month and day of week in district of Islington</h3>\n",
    "<br>\n"
   ]
  },
  {
   "cell_type": "code",
   "execution_count": 105,
   "id": "6a29cf32-0314-46a6-8e66-1de10b21e915",
   "metadata": {},
   "outputs": [],
   "source": [
    "Islington_df = accident[accident['District Area'] == 'Islington']"
   ]
  },
  {
   "cell_type": "code",
   "execution_count": 106,
   "id": "b32bcd3d-98cc-447d-af8c-6c9e4d47f342",
   "metadata": {},
   "outputs": [
    {
     "data": {
      "image/png": "[encoded data removed]",
      "text/plain": [
       "<Figure size 640x480 with 1 Axes>"
      ]
     },
     "metadata": {},
     "output_type": "display_data"
    },
    {
     "data": {
      "image/png": "[encoded data removed]",
      "text/plain": [
       "<Figure size 640x480 with 1 Axes>"
      ]
     },
     "metadata": {},
     "output_type": "display_data"
    },
    {
     "name": "stdout",
     "output_type": "stream",
     "text": [
      "DayOfWeek\n",
      "Monday       365\n",
      "Tuesday      452\n",
      "Wednesday    464\n",
      "Thursday     511\n",
      "Friday       483\n",
      "Saturday     531\n",
      "Sunday       401\n",
      "Name: count, dtype: int64\n"
     ]
    },
    {
     "data": {
      "image/png": "[encoded data removed]",
      "text/plain": [
       "<Figure size 640x480 with 1 Axes>"
      ]
     },
     "metadata": {},
     "output_type": "display_data"
    }
   ],
   "source": [
    "accidents_per_year = Hackney_df['Year'].value_counts().sort_index()\n",
    "accidents_per_month = Hackney_df['Month'].value_counts().sort_index()\n",
    "accidents_per_day = Hackney_df['DayOfWeek'].value_counts().sort_index()\n",
    "\n",
    "\n",
    "#PER YEAR \n",
    "accidents_per_year.plot(kind='bar')\n",
    "plt.title('Accidents per Year')\n",
    "plt.xlabel('Year')\n",
    "plt.ylabel('Number of Accidents')\n",
    "plt.show()\n",
    "\n",
    "month_names = {\n",
    "    1: 'January', 2: 'February', 3: 'March', 4: 'April',\n",
    "    5: 'May', 6: 'June', 7: 'July', 8: 'August',\n",
    "    9: 'September', 10: 'October', 11: 'November', 12: 'December'\n",
    "}\n",
    "\n",
    "# Replace numerical months with their names\n",
    "accidents_per_month.index = accidents_per_month.index.map(month_names)\n",
    "\n",
    "\n",
    "accidents_per_month.plot(kind='bar')\n",
    "plt.title('Accidents per Month')\n",
    "plt.xlabel('Month')\n",
    "plt.ylabel('Number of Accidents')\n",
    "plt.show()\n",
    "\n",
    "\n",
    "#accident per day\n",
    "day_names = {\n",
    "    0: 'Monday',\n",
    "    1: 'Tuesday',\n",
    "    2: 'Wednesday',\n",
    "    3: 'Thursday',\n",
    "    4: 'Friday',\n",
    "    5: 'Saturday',\n",
    "    6: 'Sunday'\n",
    "}\n",
    "\n",
    "accidents_per_day.index = accidents_per_day.index.map(day_names)\n",
    "accidents_per_day.plot(kind='bar')\n",
    "print(accidents_per_day)"
   ]
  },
  {
   "cell_type": "markdown",
   "id": "195bcd46-5c3e-4633-99a3-be63c6d799fa",
   "metadata": {},
   "source": [
    "<hr>\n",
    "<br>\n",
    "<h3>Visualization of road accident record per year, month and day of week in district of Enfield</h3>\n",
    "<br>\n"
   ]
  },
  {
   "cell_type": "code",
   "execution_count": 107,
   "id": "bee33233-61a5-4d72-8ed1-e9a08d8373eb",
   "metadata": {},
   "outputs": [],
   "source": [
    "Enfield_df = accident[accident['District Area'] == 'Enfield']\n",
    "Enfield_df[Enfield_df[''"
   ]
  },
  {
   "cell_type": "code",
   "execution_count": 108,
   "id": "729c7a8c-522f-4de4-9fa3-88fe6344571c",
   "metadata": {},
   "outputs": [
    {
     "data": {
      "image/png": "[encoded data removed]",
      "text/plain": [
       "<Figure size 640x480 with 1 Axes>"
      ]
     },
     "metadata": {},
     "output_type": "display_data"
    },
    {
     "data": {
      "image/png": "[encoded data removed]",
      "text/plain": [
       "<Figure size 640x480 with 1 Axes>"
      ]
     },
     "metadata": {},
     "output_type": "display_data"
    },
    {
     "name": "stdout",
     "output_type": "stream",
     "text": [
      "DayOfWeek\n",
      "Monday       345\n",
      "Tuesday      464\n",
      "Wednesday    443\n",
      "Thursday     442\n",
      "Friday       444\n",
      "Saturday     448\n",
      "Sunday       451\n",
      "Name: count, dtype: int64\n"
     ]
    },
    {
     "data": {
      "image/png": "[encoded data removed]",
      "text/plain": [
       "<Figure size 640x480 with 1 Axes>"
      ]
     },
     "metadata": {},
     "output_type": "display_data"
    }
   ],
   "source": [
    "accidents_per_year = Enfield_df['Year'].value_counts().sort_index()\n",
    "accidents_per_month = Enfield_df['Month'].value_counts().sort_index()\n",
    "accidents_per_day = Enfield_df['DayOfWeek'].value_counts().sort_index()\n",
    "\n",
    "\n",
    "#PER YEAR \n",
    "accidents_per_year.plot(kind='bar')\n",
    "plt.title('Accidents per Year')\n",
    "plt.xlabel('Year')\n",
    "plt.ylabel('Number of Accidents')\n",
    "plt.show()\n",
    "\n",
    "month_names = {\n",
    "    1: 'January', 2: 'February', 3: 'March', 4: 'April',\n",
    "    5: 'May', 6: 'June', 7: 'July', 8: 'August',\n",
    "    9: 'September', 10: 'October', 11: 'November', 12: 'December'\n",
    "}\n",
    "\n",
    "# Replace numerical months with their names\n",
    "accidents_per_month.index = accidents_per_month.index.map(month_names)\n",
    "\n",
    "\n",
    "accidents_per_month.plot(kind='bar')\n",
    "plt.title('Accidents per Month')\n",
    "plt.xlabel('Month')\n",
    "plt.ylabel('Number of Accidents')\n",
    "plt.show()\n",
    "\n",
    "\n",
    "#accident per day\n",
    "day_names = {\n",
    "    0: 'Monday',\n",
    "    1: 'Tuesday',\n",
    "    2: 'Wednesday',\n",
    "    3: 'Thursday',\n",
    "    4: 'Friday',\n",
    "    5: 'Saturday',\n",
    "    6: 'Sunday'\n",
    "}\n",
    "\n",
    "accidents_per_day.index = accidents_per_day.index.map(day_names)\n",
    "accidents_per_day.plot(kind='bar')\n",
    "print(accidents_per_day)"
   ]
  },
  {
   "cell_type": "markdown",
   "id": "6717f516-9c23-4086-8331-17190709a097",
   "metadata": {},
   "source": [
    "<h3>Question No. 31</h3>"
   ]
  },
  {
   "cell_type": "code",
   "execution_count": 109,
   "id": "eb376c5d-bbdb-408e-9277-53525e766d37",
   "metadata": {},
   "outputs": [
    {
     "data": {
      "image/png": "[encoded data removed]",
      "text/plain": [
       "<Figure size 640x480 with 1 Axes>"
      ]
     },
     "metadata": {},
     "output_type": "display_data"
    },
    {
     "data": {
      "image/png": "[encoded data removed]",
      "text/plain": [
       "<Figure size 640x480 with 1 Axes>"
      ]
     },
     "metadata": {},
     "output_type": "display_data"
    },
    {
     "name": "stdout",
     "output_type": "stream",
     "text": [
      "DayOfWeek\n",
      "Monday       345\n",
      "Tuesday      464\n",
      "Wednesday    443\n",
      "Thursday     442\n",
      "Friday       444\n",
      "Saturday     448\n",
      "Sunday       451\n",
      "Name: count, dtype: int64\n"
     ]
    },
    {
     "data": {
      "image/png": "[encoded data removed]",
      "text/plain": [
       "<Figure size 640x480 with 1 Axes>"
      ]
     },
     "metadata": {},
     "output_type": "display_data"
    }
   ],
   "source": [
    "accidents_per_year = Enfield_df['Year'].value_counts().sort_index()\n",
    "accidents_per_month = Enfield_df['Month'].value_counts().sort_index()\n",
    "accidents_per_day = Enfield_df['DayOfWeek'].value_counts().sort_index()\n",
    "\n",
    "\n",
    "#PER YEAR \n",
    "accidents_per_year.plot(kind='bar')\n",
    "plt.title('Accidents per Year')\n",
    "plt.xlabel('Year')\n",
    "plt.ylabel('Number of Accidents')\n",
    "plt.show()\n",
    "\n",
    "month_names = {\n",
    "    1: 'January', 2: 'February', 3: 'March', 4: 'April',\n",
    "    5: 'May', 6: 'June', 7: 'July', 8: 'August',\n",
    "    9: 'September', 10: 'October', 11: 'November', 12: 'December'\n",
    "}\n",
    "\n",
    "# Replace numerical months with their names\n",
    "accidents_per_month.index = accidents_per_month.index.map(month_names)\n",
    "\n",
    "\n",
    "accidents_per_month.plot(kind='bar')\n",
    "plt.title('Accidents per Month')\n",
    "plt.xlabel('Month')\n",
    "plt.ylabel('Number of Accidents')\n",
    "plt.show()\n",
    "\n",
    "\n",
    "#accident per day\n",
    "day_names = {\n",
    "    0: 'Monday',\n",
    "    1: 'Tuesday',\n",
    "    2: 'Wednesday',\n",
    "    3: 'Thursday',\n",
    "    4: 'Friday',\n",
    "    5: 'Saturday',\n",
    "    6: 'Sunday'\n",
    "}\n",
    "\n",
    "accidents_per_day.index = accidents_per_day.index.map(day_names)\n",
    "accidents_per_day.plot(kind='bar')\n",
    "print(accidents_per_day)"
   ]
  },
  {
   "cell_type": "code",
   "execution_count": null,
   "id": "e9017d25-1cab-4c2c-8527-9da51642e0f2",
   "metadata": {},
   "outputs": [],
   "source": []
  }
 ],
 "metadata": {
  "kernelspec": {
   "display_name": "Python 3 (ipykernel)",
   "language": "python",
   "name": "python3"
  },
  "language_info": {
   "codemirror_mode": {
    "name": "ipython",
    "version": 3
   },
   "file_extension": ".py",
   "mimetype": "text/x-python",
   "name": "python",
   "nbconvert_exporter": "python",
   "pygments_lexer": "ipython3",
   "version": "3.11.9"
  }
 },
 "nbformat": 4,
 "nbformat_minor": 5
}
